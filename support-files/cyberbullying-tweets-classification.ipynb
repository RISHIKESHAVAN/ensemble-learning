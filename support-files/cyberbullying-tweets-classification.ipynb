{
 "cells": [
  {
   "cell_type": "code",
   "execution_count": 1,
   "id": "8b8dbb4d",
   "metadata": {},
   "outputs": [],
   "source": [
    "import pandas as pd\n",
    "import numpy as np\n",
    "import matplotlib.pyplot as plt\n",
    "import seaborn as sns\n",
    "\n",
    "import re\n",
    "import string\n",
    "\n",
    "import nltk\n",
    "from nltk.corpus import stopwords\n",
    "from nltk.stem import WordNetLemmatizer\n",
    "# nltk.download('omw-1.4')\n",
    "from nltk import word_tokenize\n",
    "\n",
    "from wordcloud import WordCloud\n",
    "from sklearn.feature_extraction.text import TfidfVectorizer\n",
    "from sklearn.model_selection import train_test_split\n",
    "from sklearn.tree import DecisionTreeClassifier\n",
    "from sklearn.ensemble import RandomForestClassifier\n",
    "from sklearn.model_selection import RandomizedSearchCV\n",
    "from sklearn.model_selection import GridSearchCV\n",
    "from xgboost.sklearn import XGBClassifier\n",
    "from sklearn.ensemble import AdaBoostClassifier\n",
    "\n",
    "from sklearn.metrics import accuracy_score\n",
    "from sklearn.metrics import f1_score\n",
    "from sklearn.model_selection import cross_val_score\n",
    "from collections import Counter\n",
    "\n",
    "import emoji\n",
    "from emot.emo_unicode import UNICODE_EMOJI,EMOTICONS_EMO,EMOJI_UNICODE"
   ]
  },
  {
   "cell_type": "code",
   "execution_count": 2,
   "id": "efa13899",
   "metadata": {},
   "outputs": [],
   "source": [
    "tweets = pd.read_csv(\"../data/cyberbullying_tweets.csv\")"
   ]
  },
  {
   "cell_type": "code",
   "execution_count": 3,
   "id": "a92b49c2",
   "metadata": {},
   "outputs": [
    {
     "data": {
      "text/plain": [
       "(47692, 2)"
      ]
     },
     "execution_count": 3,
     "metadata": {},
     "output_type": "execute_result"
    }
   ],
   "source": [
    "tweets.shape"
   ]
  },
  {
   "cell_type": "code",
   "execution_count": 4,
   "id": "c65e10f8",
   "metadata": {},
   "outputs": [
    {
     "data": {
      "text/html": [
       "<div>\n",
       "<style scoped>\n",
       "    .dataframe tbody tr th:only-of-type {\n",
       "        vertical-align: middle;\n",
       "    }\n",
       "\n",
       "    .dataframe tbody tr th {\n",
       "        vertical-align: top;\n",
       "    }\n",
       "\n",
       "    .dataframe thead th {\n",
       "        text-align: right;\n",
       "    }\n",
       "</style>\n",
       "<table border=\"1\" class=\"dataframe\">\n",
       "  <thead>\n",
       "    <tr style=\"text-align: right;\">\n",
       "      <th></th>\n",
       "      <th>tweet_text</th>\n",
       "      <th>cyberbullying_type</th>\n",
       "    </tr>\n",
       "  </thead>\n",
       "  <tbody>\n",
       "    <tr>\n",
       "      <th>0</th>\n",
       "      <td>In other words #katandandre, your food was cra...</td>\n",
       "      <td>not_cyberbullying</td>\n",
       "    </tr>\n",
       "    <tr>\n",
       "      <th>1</th>\n",
       "      <td>Why is #aussietv so white? #MKR #theblock #ImA...</td>\n",
       "      <td>not_cyberbullying</td>\n",
       "    </tr>\n",
       "    <tr>\n",
       "      <th>2</th>\n",
       "      <td>@XochitlSuckkks a classy whore? Or more red ve...</td>\n",
       "      <td>not_cyberbullying</td>\n",
       "    </tr>\n",
       "    <tr>\n",
       "      <th>3</th>\n",
       "      <td>@Jason_Gio meh. :P  thanks for the heads up, b...</td>\n",
       "      <td>not_cyberbullying</td>\n",
       "    </tr>\n",
       "    <tr>\n",
       "      <th>4</th>\n",
       "      <td>@RudhoeEnglish This is an ISIS account pretend...</td>\n",
       "      <td>not_cyberbullying</td>\n",
       "    </tr>\n",
       "  </tbody>\n",
       "</table>\n",
       "</div>"
      ],
      "text/plain": [
       "                                          tweet_text cyberbullying_type\n",
       "0  In other words #katandandre, your food was cra...  not_cyberbullying\n",
       "1  Why is #aussietv so white? #MKR #theblock #ImA...  not_cyberbullying\n",
       "2  @XochitlSuckkks a classy whore? Or more red ve...  not_cyberbullying\n",
       "3  @Jason_Gio meh. :P  thanks for the heads up, b...  not_cyberbullying\n",
       "4  @RudhoeEnglish This is an ISIS account pretend...  not_cyberbullying"
      ]
     },
     "execution_count": 4,
     "metadata": {},
     "output_type": "execute_result"
    }
   ],
   "source": [
    "tweets.head()"
   ]
  },
  {
   "cell_type": "code",
   "execution_count": 5,
   "id": "ba1a8af0",
   "metadata": {},
   "outputs": [
    {
     "data": {
      "text/plain": [
       "tweet_text            0\n",
       "cyberbullying_type    0\n",
       "dtype: int64"
      ]
     },
     "execution_count": 5,
     "metadata": {},
     "output_type": "execute_result"
    }
   ],
   "source": [
    "tweets.isnull().sum()"
   ]
  },
  {
   "cell_type": "code",
   "execution_count": 6,
   "id": "f02a4ad5",
   "metadata": {},
   "outputs": [
    {
     "data": {
      "text/plain": [
       "<AxesSubplot:ylabel='cyberbullying_type'>"
      ]
     },
     "execution_count": 6,
     "metadata": {},
     "output_type": "execute_result"
    },
    {
     "data": {
      "image/png": "[encoded data removed]",
      "text/plain": [
       "<Figure size 864x288 with 1 Axes>"
      ]
     },
     "metadata": {
      "needs_background": "light"
     },
     "output_type": "display_data"
    }
   ],
   "source": [
    "plt.figure(figsize=(12,4))\n",
    "sns.barplot(x=tweets['cyberbullying_type'].value_counts().index, y=tweets['cyberbullying_type'].value_counts())"
   ]
  },
  {
   "cell_type": "markdown",
   "id": "309653ec",
   "metadata": {},
   "source": [
    "## Data preprocessing"
   ]
  },
  {
   "cell_type": "markdown",
   "id": "9e6d724a",
   "metadata": {},
   "source": [
    "### Extract hashtags, mentions, links and emojis"
   ]
  },
  {
   "cell_type": "code",
   "execution_count": 7,
   "id": "7f24d350",
   "metadata": {},
   "outputs": [],
   "source": [
    "def extract_hashtags(self):\n",
    "    regex = \"#(\\w+)\"\n",
    "    hashtag_list = re.findall(regex, self)\n",
    "    l=[]\n",
    "    for x in hashtag_list:\n",
    "        x = x.lower()\n",
    "        x = re.sub(r\"[^a-zA-Z ]+\", '', x)\n",
    "        l.append(x)\n",
    "    if len(hashtag_list) > 0:\n",
    "        return ' '.join(hashtag_list)\n",
    "    else:\n",
    "        return ''\n",
    "\n",
    "def extract_tags(self):\n",
    "    regex = \"@(\\w+)\"\n",
    "    name_tag = re.findall(regex, self)\n",
    "    l=[]\n",
    "    for x in name_tag:\n",
    "        x = x.lower()\n",
    "        x = re.sub(r\"[^a-zA-Z ]+\", '', x)\n",
    "        l.append(x)\n",
    "    if len(l) > 0:\n",
    "        return ' '.join(l)\n",
    "    else:\n",
    "        return ''\n",
    "#     return l if l else ''\n",
    "\n",
    "def extract_links(self):\n",
    "    regex = r'(https?://\\S+)'\n",
    "    url_list = re.findall(regex, self)\n",
    "    l=[]\n",
    "    for x in url_list:\n",
    "        x = x.lower()\n",
    "        x = re.sub(r\"[^a-zA-Z ]+\", '', x)\n",
    "        l.append(x)\n",
    "    if len(url_list) > 0:\n",
    "        return ' '.join(url_list)\n",
    "    else:\n",
    "        return ''\n",
    "#     return url_list if url_list else ''\n",
    "\n",
    "def extract_emojis(self):\n",
    "    emoji_list = ''.join(c for c in self if c in emoji.UNICODE_EMOJI['en'])\n",
    "    text_emoji =  ''.join(emoji.demojize(x) for x in emoji_list if x)\n",
    "    regex = r\"\\:(.*?)\\:\"\n",
    "    text_emoji =  re.findall(regex, text_emoji)\n",
    "    if len(text_emoji) > 0:\n",
    "        return ' '.join(text_emoji)\n",
    "    else:\n",
    "        return ''\n",
    "#     return text_emoji if text_emoji else ''"
   ]
  },
  {
   "cell_type": "code",
   "execution_count": 8,
   "id": "538fe230",
   "metadata": {},
   "outputs": [],
   "source": [
    "tweets['tweet_text'] = tweets['tweet_text'].str.lower()\n",
    "tweets['hash_tag']   = tweets['tweet_text'].apply(extract_hashtags)\n",
    "tweets['name_tag']   = tweets['tweet_text'].apply(extract_tags)\n",
    "tweets['url_tag']    = tweets['tweet_text'].apply(extract_links)\n",
    "tweets['emoji_tag']  = tweets['tweet_text'].apply(extract_emojis)"
   ]
  },
  {
   "cell_type": "code",
   "execution_count": 9,
   "id": "a3b35d6c",
   "metadata": {},
   "outputs": [
    {
     "data": {
      "text/html": [
       "<div>\n",
       "<style scoped>\n",
       "    .dataframe tbody tr th:only-of-type {\n",
       "        vertical-align: middle;\n",
       "    }\n",
       "\n",
       "    .dataframe tbody tr th {\n",
       "        vertical-align: top;\n",
       "    }\n",
       "\n",
       "    .dataframe thead th {\n",
       "        text-align: right;\n",
       "    }\n",
       "</style>\n",
       "<table border=\"1\" class=\"dataframe\">\n",
       "  <thead>\n",
       "    <tr style=\"text-align: right;\">\n",
       "      <th></th>\n",
       "      <th>tweet_text</th>\n",
       "      <th>cyberbullying_type</th>\n",
       "      <th>hash_tag</th>\n",
       "      <th>name_tag</th>\n",
       "      <th>url_tag</th>\n",
       "      <th>emoji_tag</th>\n",
       "    </tr>\n",
       "  </thead>\n",
       "  <tbody>\n",
       "    <tr>\n",
       "      <th>0</th>\n",
       "      <td>in other words #katandandre, your food was cra...</td>\n",
       "      <td>not_cyberbullying</td>\n",
       "      <td>katandandre mkr</td>\n",
       "      <td></td>\n",
       "      <td></td>\n",
       "      <td></td>\n",
       "    </tr>\n",
       "    <tr>\n",
       "      <th>1</th>\n",
       "      <td>why is #aussietv so white? #mkr #theblock #ima...</td>\n",
       "      <td>not_cyberbullying</td>\n",
       "      <td>aussietv mkr theblock imacelebrityau today sun...</td>\n",
       "      <td></td>\n",
       "      <td></td>\n",
       "      <td></td>\n",
       "    </tr>\n",
       "    <tr>\n",
       "      <th>2</th>\n",
       "      <td>@xochitlsuckkks a classy whore? or more red ve...</td>\n",
       "      <td>not_cyberbullying</td>\n",
       "      <td></td>\n",
       "      <td>xochitlsuckkks</td>\n",
       "      <td></td>\n",
       "      <td></td>\n",
       "    </tr>\n",
       "    <tr>\n",
       "      <th>3</th>\n",
       "      <td>@jason_gio meh. :p  thanks for the heads up, b...</td>\n",
       "      <td>not_cyberbullying</td>\n",
       "      <td></td>\n",
       "      <td>jasongio</td>\n",
       "      <td></td>\n",
       "      <td></td>\n",
       "    </tr>\n",
       "    <tr>\n",
       "      <th>4</th>\n",
       "      <td>@rudhoeenglish this is an isis account pretend...</td>\n",
       "      <td>not_cyberbullying</td>\n",
       "      <td></td>\n",
       "      <td>rudhoeenglish</td>\n",
       "      <td></td>\n",
       "      <td></td>\n",
       "    </tr>\n",
       "  </tbody>\n",
       "</table>\n",
       "</div>"
      ],
      "text/plain": [
       "                                          tweet_text cyberbullying_type  \\\n",
       "0  in other words #katandandre, your food was cra...  not_cyberbullying   \n",
       "1  why is #aussietv so white? #mkr #theblock #ima...  not_cyberbullying   \n",
       "2  @xochitlsuckkks a classy whore? or more red ve...  not_cyberbullying   \n",
       "3  @jason_gio meh. :p  thanks for the heads up, b...  not_cyberbullying   \n",
       "4  @rudhoeenglish this is an isis account pretend...  not_cyberbullying   \n",
       "\n",
       "                                            hash_tag        name_tag url_tag  \\\n",
       "0                                    katandandre mkr                           \n",
       "1  aussietv mkr theblock imacelebrityau today sun...                           \n",
       "2                                                     xochitlsuckkks           \n",
       "3                                                           jasongio           \n",
       "4                                                      rudhoeenglish           \n",
       "\n",
       "  emoji_tag  \n",
       "0            \n",
       "1            \n",
       "2            \n",
       "3            \n",
       "4            "
      ]
     },
     "execution_count": 9,
     "metadata": {},
     "output_type": "execute_result"
    }
   ],
   "source": [
    "tweets.head()"
   ]
  },
  {
   "cell_type": "markdown",
   "id": "ca321e55",
   "metadata": {},
   "source": [
    "### Remove the symbols and numbers from tweet text"
   ]
  },
  {
   "cell_type": "code",
   "execution_count": 10,
   "id": "e2d36f85",
   "metadata": {},
   "outputs": [],
   "source": [
    "tweets['tweet_text'] = tweets['tweet_text'].apply(lambda x: re.sub(r\"[^a-zA-Z ]+\", '', x))"
   ]
  },
  {
   "cell_type": "code",
   "execution_count": 11,
   "id": "76c76ee9",
   "metadata": {},
   "outputs": [
    {
     "data": {
      "text/html": [
       "<div>\n",
       "<style scoped>\n",
       "    .dataframe tbody tr th:only-of-type {\n",
       "        vertical-align: middle;\n",
       "    }\n",
       "\n",
       "    .dataframe tbody tr th {\n",
       "        vertical-align: top;\n",
       "    }\n",
       "\n",
       "    .dataframe thead th {\n",
       "        text-align: right;\n",
       "    }\n",
       "</style>\n",
       "<table border=\"1\" class=\"dataframe\">\n",
       "  <thead>\n",
       "    <tr style=\"text-align: right;\">\n",
       "      <th></th>\n",
       "      <th>tweet_text</th>\n",
       "      <th>cyberbullying_type</th>\n",
       "      <th>hash_tag</th>\n",
       "      <th>name_tag</th>\n",
       "      <th>url_tag</th>\n",
       "      <th>emoji_tag</th>\n",
       "    </tr>\n",
       "  </thead>\n",
       "  <tbody>\n",
       "    <tr>\n",
       "      <th>0</th>\n",
       "      <td>in other words katandandre your food was crapi...</td>\n",
       "      <td>not_cyberbullying</td>\n",
       "      <td>katandandre mkr</td>\n",
       "      <td></td>\n",
       "      <td></td>\n",
       "      <td></td>\n",
       "    </tr>\n",
       "    <tr>\n",
       "      <th>1</th>\n",
       "      <td>why is aussietv so white mkr theblock imaceleb...</td>\n",
       "      <td>not_cyberbullying</td>\n",
       "      <td>aussietv mkr theblock imacelebrityau today sun...</td>\n",
       "      <td></td>\n",
       "      <td></td>\n",
       "      <td></td>\n",
       "    </tr>\n",
       "    <tr>\n",
       "      <th>2</th>\n",
       "      <td>xochitlsuckkks a classy whore or more red velv...</td>\n",
       "      <td>not_cyberbullying</td>\n",
       "      <td></td>\n",
       "      <td>xochitlsuckkks</td>\n",
       "      <td></td>\n",
       "      <td></td>\n",
       "    </tr>\n",
       "    <tr>\n",
       "      <th>3</th>\n",
       "      <td>jasongio meh p  thanks for the heads up but no...</td>\n",
       "      <td>not_cyberbullying</td>\n",
       "      <td></td>\n",
       "      <td>jasongio</td>\n",
       "      <td></td>\n",
       "      <td></td>\n",
       "    </tr>\n",
       "    <tr>\n",
       "      <th>4</th>\n",
       "      <td>rudhoeenglish this is an isis account pretendi...</td>\n",
       "      <td>not_cyberbullying</td>\n",
       "      <td></td>\n",
       "      <td>rudhoeenglish</td>\n",
       "      <td></td>\n",
       "      <td></td>\n",
       "    </tr>\n",
       "  </tbody>\n",
       "</table>\n",
       "</div>"
      ],
      "text/plain": [
       "                                          tweet_text cyberbullying_type  \\\n",
       "0  in other words katandandre your food was crapi...  not_cyberbullying   \n",
       "1  why is aussietv so white mkr theblock imaceleb...  not_cyberbullying   \n",
       "2  xochitlsuckkks a classy whore or more red velv...  not_cyberbullying   \n",
       "3  jasongio meh p  thanks for the heads up but no...  not_cyberbullying   \n",
       "4  rudhoeenglish this is an isis account pretendi...  not_cyberbullying   \n",
       "\n",
       "                                            hash_tag        name_tag url_tag  \\\n",
       "0                                    katandandre mkr                           \n",
       "1  aussietv mkr theblock imacelebrityau today sun...                           \n",
       "2                                                     xochitlsuckkks           \n",
       "3                                                           jasongio           \n",
       "4                                                      rudhoeenglish           \n",
       "\n",
       "  emoji_tag  \n",
       "0            \n",
       "1            \n",
       "2            \n",
       "3            \n",
       "4            "
      ]
     },
     "execution_count": 11,
     "metadata": {},
     "output_type": "execute_result"
    }
   ],
   "source": [
    "tweets.head()"
   ]
  },
  {
   "cell_type": "markdown",
   "id": "3096ac77",
   "metadata": {},
   "source": [
    "### Remove the hashtags, mentions, url and emojis from tweet text"
   ]
  },
  {
   "cell_type": "code",
   "execution_count": 12,
   "id": "c3ea2dd8",
   "metadata": {},
   "outputs": [],
   "source": [
    "def clean_text(text,dirt):\n",
    "    dirt = dirt.split()\n",
    "    for x in dirt:\n",
    "        text = text.replace(x,'')\n",
    "        text = \" \".join(text.split())\n",
    "    return text"
   ]
  },
  {
   "cell_type": "code",
   "execution_count": 13,
   "id": "7641e41b",
   "metadata": {},
   "outputs": [],
   "source": [
    "tweets['tweet_text'] = tweets.apply(lambda row :clean_text(row['tweet_text'],row['name_tag']),axis=1)\n",
    "tweets['tweet_text'] = tweets.apply(lambda row :clean_text(row['tweet_text'],row['hash_tag']),axis=1)\n",
    "tweets['tweet_text'] = tweets.apply(lambda row :clean_text(row['tweet_text'],row['url_tag']),axis=1)"
   ]
  },
  {
   "cell_type": "code",
   "execution_count": 14,
   "id": "d03d53cd",
   "metadata": {},
   "outputs": [
    {
     "data": {
      "text/html": [
       "<div>\n",
       "<style scoped>\n",
       "    .dataframe tbody tr th:only-of-type {\n",
       "        vertical-align: middle;\n",
       "    }\n",
       "\n",
       "    .dataframe tbody tr th {\n",
       "        vertical-align: top;\n",
       "    }\n",
       "\n",
       "    .dataframe thead th {\n",
       "        text-align: right;\n",
       "    }\n",
       "</style>\n",
       "<table border=\"1\" class=\"dataframe\">\n",
       "  <thead>\n",
       "    <tr style=\"text-align: right;\">\n",
       "      <th></th>\n",
       "      <th>tweet_text</th>\n",
       "      <th>cyberbullying_type</th>\n",
       "      <th>hash_tag</th>\n",
       "      <th>name_tag</th>\n",
       "      <th>url_tag</th>\n",
       "      <th>emoji_tag</th>\n",
       "    </tr>\n",
       "  </thead>\n",
       "  <tbody>\n",
       "    <tr>\n",
       "      <th>0</th>\n",
       "      <td>in other words your food was crapilicious</td>\n",
       "      <td>not_cyberbullying</td>\n",
       "      <td>katandandre mkr</td>\n",
       "      <td></td>\n",
       "      <td></td>\n",
       "      <td></td>\n",
       "    </tr>\n",
       "    <tr>\n",
       "      <th>1</th>\n",
       "      <td>why is so white studio</td>\n",
       "      <td>not_cyberbullying</td>\n",
       "      <td>aussietv mkr theblock imacelebrityau today sun...</td>\n",
       "      <td></td>\n",
       "      <td></td>\n",
       "      <td></td>\n",
       "    </tr>\n",
       "    <tr>\n",
       "      <th>2</th>\n",
       "      <td>a classy whore or more red velvet cupcakes</td>\n",
       "      <td>not_cyberbullying</td>\n",
       "      <td></td>\n",
       "      <td>xochitlsuckkks</td>\n",
       "      <td></td>\n",
       "      <td></td>\n",
       "    </tr>\n",
       "    <tr>\n",
       "      <th>3</th>\n",
       "      <td>meh p thanks for the heads up but not too conc...</td>\n",
       "      <td>not_cyberbullying</td>\n",
       "      <td></td>\n",
       "      <td>jasongio</td>\n",
       "      <td></td>\n",
       "      <td></td>\n",
       "    </tr>\n",
       "    <tr>\n",
       "      <th>4</th>\n",
       "      <td>this is an isis account pretending to be a kur...</td>\n",
       "      <td>not_cyberbullying</td>\n",
       "      <td></td>\n",
       "      <td>rudhoeenglish</td>\n",
       "      <td></td>\n",
       "      <td></td>\n",
       "    </tr>\n",
       "  </tbody>\n",
       "</table>\n",
       "</div>"
      ],
      "text/plain": [
       "                                          tweet_text cyberbullying_type  \\\n",
       "0          in other words your food was crapilicious  not_cyberbullying   \n",
       "1                             why is so white studio  not_cyberbullying   \n",
       "2         a classy whore or more red velvet cupcakes  not_cyberbullying   \n",
       "3  meh p thanks for the heads up but not too conc...  not_cyberbullying   \n",
       "4  this is an isis account pretending to be a kur...  not_cyberbullying   \n",
       "\n",
       "                                            hash_tag        name_tag url_tag  \\\n",
       "0                                    katandandre mkr                           \n",
       "1  aussietv mkr theblock imacelebrityau today sun...                           \n",
       "2                                                     xochitlsuckkks           \n",
       "3                                                           jasongio           \n",
       "4                                                      rudhoeenglish           \n",
       "\n",
       "  emoji_tag  \n",
       "0            \n",
       "1            \n",
       "2            \n",
       "3            \n",
       "4            "
      ]
     },
     "execution_count": 14,
     "metadata": {},
     "output_type": "execute_result"
    }
   ],
   "source": [
    "tweets.head()"
   ]
  },
  {
   "cell_type": "markdown",
   "id": "7e270e05",
   "metadata": {},
   "source": [
    "### Process the tweets"
   ]
  },
  {
   "cell_type": "code",
   "execution_count": 15,
   "id": "9b9add8e",
   "metadata": {},
   "outputs": [],
   "source": [
    "def normalize_accent(string):\n",
    "    string = string.replace('á', 'a')\n",
    "    string = string.replace('à', 'a')\n",
    "    string = string.replace('â', 'a')\n",
    "\n",
    "    string = string.replace('é', 'e')\n",
    "    string = string.replace('è', 'e')\n",
    "    string = string.replace('ê', 'e')\n",
    "    string = string.replace('ë', 'e')\n",
    "\n",
    "    string = string.replace('î', 'i')\n",
    "    string = string.replace('ï', 'i')\n",
    "\n",
    "    string = string.replace('ö', 'o')\n",
    "    string = string.replace('ô', 'o')\n",
    "    string = string.replace('ò', 'o')\n",
    "    string = string.replace('ó', 'o')\n",
    "\n",
    "    string = string.replace('ù', 'u')\n",
    "    string = string.replace('û', 'u')\n",
    "    string = string.replace('ü', 'u')\n",
    "\n",
    "    string = string.replace('ç', 'c')\n",
    "    \n",
    "    return string"
   ]
  },
  {
   "cell_type": "code",
   "execution_count": 16,
   "id": "3ee35c4b",
   "metadata": {},
   "outputs": [],
   "source": [
    "STOPWORDS = set(stopwords.words('english'))\n",
    "lemma = WordNetLemmatizer()"
   ]
  },
  {
   "cell_type": "code",
   "execution_count": 17,
   "id": "9170be29",
   "metadata": {},
   "outputs": [],
   "source": [
    "def clean_tweet(text):\n",
    "    # Remove Hashtag, Mention, https, www.asdfd, dsfadsf.com\n",
    "    pattern = re.compile(r\"(#[A-Za-z0-9]+|@[A-Za-z0-9]+|https?://\\S+|www\\.\\S+|\\S+\\.[a-z]+|RT @)\")\n",
    "    text = pattern.sub('', str(text))\n",
    "    text = \" \".join(text.split())\n",
    "    \n",
    "    # Make all text lowercase\n",
    "    text = text.lower()\n",
    "    \n",
    "    # Replace accented letters\n",
    "    text = normalize_accent(text)\n",
    "\n",
    "    # Lemmatize word and remove stopwords\n",
    "    text = \" \".join([lemma.lemmatize(word) for word in str(text).split() if word.isalpha() and word not in STOPWORDS])\n",
    "\n",
    "    # Remove Punctuation\n",
    "    text = re.sub(r'[^\\w\\s]', '', text)\n",
    "    \n",
    "    return text"
   ]
  },
  {
   "cell_type": "code",
   "execution_count": 18,
   "id": "2c85aade",
   "metadata": {
    "scrolled": true
   },
   "outputs": [
    {
     "data": {
      "text/html": [
       "<div>\n",
       "<style scoped>\n",
       "    .dataframe tbody tr th:only-of-type {\n",
       "        vertical-align: middle;\n",
       "    }\n",
       "\n",
       "    .dataframe tbody tr th {\n",
       "        vertical-align: top;\n",
       "    }\n",
       "\n",
       "    .dataframe thead th {\n",
       "        text-align: right;\n",
       "    }\n",
       "</style>\n",
       "<table border=\"1\" class=\"dataframe\">\n",
       "  <thead>\n",
       "    <tr style=\"text-align: right;\">\n",
       "      <th></th>\n",
       "      <th>tweet_text</th>\n",
       "      <th>cyberbullying_type</th>\n",
       "      <th>hash_tag</th>\n",
       "      <th>name_tag</th>\n",
       "      <th>url_tag</th>\n",
       "      <th>emoji_tag</th>\n",
       "      <th>clean_tweet</th>\n",
       "    </tr>\n",
       "  </thead>\n",
       "  <tbody>\n",
       "    <tr>\n",
       "      <th>0</th>\n",
       "      <td>in other words your food was crapilicious</td>\n",
       "      <td>not_cyberbullying</td>\n",
       "      <td>katandandre mkr</td>\n",
       "      <td></td>\n",
       "      <td></td>\n",
       "      <td></td>\n",
       "      <td>word food crapilicious</td>\n",
       "    </tr>\n",
       "    <tr>\n",
       "      <th>1</th>\n",
       "      <td>why is so white studio</td>\n",
       "      <td>not_cyberbullying</td>\n",
       "      <td>aussietv mkr theblock imacelebrityau today sun...</td>\n",
       "      <td></td>\n",
       "      <td></td>\n",
       "      <td></td>\n",
       "      <td>white studio</td>\n",
       "    </tr>\n",
       "    <tr>\n",
       "      <th>2</th>\n",
       "      <td>a classy whore or more red velvet cupcakes</td>\n",
       "      <td>not_cyberbullying</td>\n",
       "      <td></td>\n",
       "      <td>xochitlsuckkks</td>\n",
       "      <td></td>\n",
       "      <td></td>\n",
       "      <td>classy whore red velvet cupcake</td>\n",
       "    </tr>\n",
       "    <tr>\n",
       "      <th>3</th>\n",
       "      <td>meh p thanks for the heads up but not too conc...</td>\n",
       "      <td>not_cyberbullying</td>\n",
       "      <td></td>\n",
       "      <td>jasongio</td>\n",
       "      <td></td>\n",
       "      <td></td>\n",
       "      <td>meh p thanks head concerned another angry dude...</td>\n",
       "    </tr>\n",
       "    <tr>\n",
       "      <th>4</th>\n",
       "      <td>this is an isis account pretending to be a kur...</td>\n",
       "      <td>not_cyberbullying</td>\n",
       "      <td></td>\n",
       "      <td>rudhoeenglish</td>\n",
       "      <td></td>\n",
       "      <td></td>\n",
       "      <td>isi account pretending kurdish account like is...</td>\n",
       "    </tr>\n",
       "  </tbody>\n",
       "</table>\n",
       "</div>"
      ],
      "text/plain": [
       "                                          tweet_text cyberbullying_type  \\\n",
       "0          in other words your food was crapilicious  not_cyberbullying   \n",
       "1                             why is so white studio  not_cyberbullying   \n",
       "2         a classy whore or more red velvet cupcakes  not_cyberbullying   \n",
       "3  meh p thanks for the heads up but not too conc...  not_cyberbullying   \n",
       "4  this is an isis account pretending to be a kur...  not_cyberbullying   \n",
       "\n",
       "                                            hash_tag        name_tag url_tag  \\\n",
       "0                                    katandandre mkr                           \n",
       "1  aussietv mkr theblock imacelebrityau today sun...                           \n",
       "2                                                     xochitlsuckkks           \n",
       "3                                                           jasongio           \n",
       "4                                                      rudhoeenglish           \n",
       "\n",
       "  emoji_tag                                        clean_tweet  \n",
       "0                                       word food crapilicious  \n",
       "1                                                 white studio  \n",
       "2                              classy whore red velvet cupcake  \n",
       "3            meh p thanks head concerned another angry dude...  \n",
       "4            isi account pretending kurdish account like is...  "
      ]
     },
     "execution_count": 18,
     "metadata": {},
     "output_type": "execute_result"
    }
   ],
   "source": [
    "tweets['clean_tweet'] = tweets['tweet_text']\n",
    "tweets['clean_tweet'] = tweets['clean_tweet'].apply(lambda text: clean_tweet(text))\n",
    "tweets.head()"
   ]
  },
  {
   "cell_type": "code",
   "execution_count": 19,
   "id": "ef142935",
   "metadata": {},
   "outputs": [
    {
     "data": {
      "text/plain": [
       "tweet_text            0\n",
       "cyberbullying_type    0\n",
       "hash_tag              0\n",
       "name_tag              0\n",
       "url_tag               0\n",
       "emoji_tag             0\n",
       "clean_tweet           0\n",
       "dtype: int64"
      ]
     },
     "execution_count": 19,
     "metadata": {},
     "output_type": "execute_result"
    }
   ],
   "source": [
    "tweets.isnull().sum()"
   ]
  },
  {
   "cell_type": "code",
   "execution_count": 20,
   "id": "1f80e448",
   "metadata": {},
   "outputs": [],
   "source": [
    "tweets.to_csv(\"../data/cleaned_cyberbullying_tweets.csv\", index=False)"
   ]
  },
  {
   "cell_type": "markdown",
   "id": "08d9ed6e",
   "metadata": {},
   "source": [
    "## WordCloud"
   ]
  },
  {
   "cell_type": "code",
   "execution_count": 70,
   "id": "b8556a41",
   "metadata": {
    "scrolled": true
   },
   "outputs": [],
   "source": [
    "# for s in list(tweets.cyberbullying_type.value_counts().index):\n",
    "#     plt.figure(figsize=(10,10))\n",
    "#     wordcloud = WordCloud(min_font_size=5, max_words=1000, width=1600 , height=800 , stopwords=STOPWORDS).generate(str(tweets[tweets[\"cyberbullying_type\"] == s].clean_tweet))\n",
    "#     plt.axis('off')\n",
    "#     plt.imshow(wordcloud)\n",
    "#     plt.title(s)\n",
    "#     plt.show()"
   ]
  },
  {
   "cell_type": "markdown",
   "id": "b340ea11",
   "metadata": {},
   "source": [
    "## TFIDF"
   ]
  },
  {
   "cell_type": "code",
   "execution_count": 2,
   "id": "4074530c",
   "metadata": {},
   "outputs": [],
   "source": [
    "tweets = pd.read_csv(\"../data/cleaned_cyberbullying_tweets.csv\")\n",
    "tweets.hash_tag = tweets.hash_tag.fillna(\"\")\n",
    "tweets.emoji_tag = tweets.emoji_tag.fillna(\"\")\n",
    "tweets.clean_tweet = tweets.clean_tweet.fillna(\"\")"
   ]
  },
  {
   "cell_type": "code",
   "execution_count": 3,
   "id": "69a16c86",
   "metadata": {},
   "outputs": [
    {
     "data": {
      "text/plain": [
       "(47692, 7)"
      ]
     },
     "execution_count": 3,
     "metadata": {},
     "output_type": "execute_result"
    }
   ],
   "source": [
    "tweets.shape"
   ]
  },
  {
   "cell_type": "code",
   "execution_count": 4,
   "id": "9f364f39",
   "metadata": {},
   "outputs": [
    {
     "data": {
      "text/plain": [
       "tweet_text              134\n",
       "cyberbullying_type        0\n",
       "hash_tag                  0\n",
       "name_tag              29599\n",
       "url_tag               43391\n",
       "emoji_tag                 0\n",
       "clean_tweet               0\n",
       "dtype: int64"
      ]
     },
     "execution_count": 4,
     "metadata": {},
     "output_type": "execute_result"
    }
   ],
   "source": [
    "tweets.isna().sum()"
   ]
  },
  {
   "cell_type": "code",
   "execution_count": 5,
   "id": "45fba3be",
   "metadata": {},
   "outputs": [
    {
     "name": "stdout",
     "output_type": "stream",
     "text": [
      "(47692, 7)\n"
     ]
    },
    {
     "data": {
      "text/html": [
       "<div>\n",
       "<style scoped>\n",
       "    .dataframe tbody tr th:only-of-type {\n",
       "        vertical-align: middle;\n",
       "    }\n",
       "\n",
       "    .dataframe tbody tr th {\n",
       "        vertical-align: top;\n",
       "    }\n",
       "\n",
       "    .dataframe thead th {\n",
       "        text-align: right;\n",
       "    }\n",
       "</style>\n",
       "<table border=\"1\" class=\"dataframe\">\n",
       "  <thead>\n",
       "    <tr style=\"text-align: right;\">\n",
       "      <th></th>\n",
       "      <th>tweet_text</th>\n",
       "      <th>cyberbullying_type</th>\n",
       "      <th>hash_tag</th>\n",
       "      <th>name_tag</th>\n",
       "      <th>url_tag</th>\n",
       "      <th>emoji_tag</th>\n",
       "      <th>clean_tweet</th>\n",
       "    </tr>\n",
       "  </thead>\n",
       "  <tbody>\n",
       "    <tr>\n",
       "      <th>0</th>\n",
       "      <td>in other words your food was crapilicious</td>\n",
       "      <td>not_cyberbullying</td>\n",
       "      <td>katandandre mkr</td>\n",
       "      <td>NaN</td>\n",
       "      <td>NaN</td>\n",
       "      <td></td>\n",
       "      <td>word food crapilicious</td>\n",
       "    </tr>\n",
       "    <tr>\n",
       "      <th>1</th>\n",
       "      <td>why is so white studio</td>\n",
       "      <td>not_cyberbullying</td>\n",
       "      <td>aussietv mkr theblock imacelebrityau today sun...</td>\n",
       "      <td>NaN</td>\n",
       "      <td>NaN</td>\n",
       "      <td></td>\n",
       "      <td>white studio</td>\n",
       "    </tr>\n",
       "    <tr>\n",
       "      <th>2</th>\n",
       "      <td>a classy whore or more red velvet cupcakes</td>\n",
       "      <td>not_cyberbullying</td>\n",
       "      <td></td>\n",
       "      <td>xochitlsuckkks</td>\n",
       "      <td>NaN</td>\n",
       "      <td></td>\n",
       "      <td>classy whore red velvet cupcake</td>\n",
       "    </tr>\n",
       "    <tr>\n",
       "      <th>3</th>\n",
       "      <td>meh p thanks for the heads up but not too conc...</td>\n",
       "      <td>not_cyberbullying</td>\n",
       "      <td></td>\n",
       "      <td>jasongio</td>\n",
       "      <td>NaN</td>\n",
       "      <td></td>\n",
       "      <td>meh p thanks head concerned another angry dude...</td>\n",
       "    </tr>\n",
       "    <tr>\n",
       "      <th>4</th>\n",
       "      <td>this is an isis account pretending to be a kur...</td>\n",
       "      <td>not_cyberbullying</td>\n",
       "      <td></td>\n",
       "      <td>rudhoeenglish</td>\n",
       "      <td>NaN</td>\n",
       "      <td></td>\n",
       "      <td>isi account pretending kurdish account like is...</td>\n",
       "    </tr>\n",
       "  </tbody>\n",
       "</table>\n",
       "</div>"
      ],
      "text/plain": [
       "                                          tweet_text cyberbullying_type  \\\n",
       "0          in other words your food was crapilicious  not_cyberbullying   \n",
       "1                             why is so white studio  not_cyberbullying   \n",
       "2         a classy whore or more red velvet cupcakes  not_cyberbullying   \n",
       "3  meh p thanks for the heads up but not too conc...  not_cyberbullying   \n",
       "4  this is an isis account pretending to be a kur...  not_cyberbullying   \n",
       "\n",
       "                                            hash_tag        name_tag url_tag  \\\n",
       "0                                    katandandre mkr             NaN     NaN   \n",
       "1  aussietv mkr theblock imacelebrityau today sun...             NaN     NaN   \n",
       "2                                                     xochitlsuckkks     NaN   \n",
       "3                                                           jasongio     NaN   \n",
       "4                                                      rudhoeenglish     NaN   \n",
       "\n",
       "  emoji_tag                                        clean_tweet  \n",
       "0                                       word food crapilicious  \n",
       "1                                                 white studio  \n",
       "2                              classy whore red velvet cupcake  \n",
       "3            meh p thanks head concerned another angry dude...  \n",
       "4            isi account pretending kurdish account like is...  "
      ]
     },
     "execution_count": 5,
     "metadata": {},
     "output_type": "execute_result"
    }
   ],
   "source": [
    "print(tweets.shape)\n",
    "tweets.head()"
   ]
  },
  {
   "cell_type": "code",
   "execution_count": 6,
   "id": "43f4f966",
   "metadata": {},
   "outputs": [
    {
     "name": "stdout",
     "output_type": "stream",
     "text": [
      "(47692, 4555)\n"
     ]
    },
    {
     "name": "stderr",
     "output_type": "stream",
     "text": [
      "/opt/homebrew/Caskroom/miniforge/base/envs/ensemble_env/lib/python3.8/site-packages/sklearn/utils/deprecation.py:87: FutureWarning: Function get_feature_names is deprecated; get_feature_names is deprecated in 1.0 and will be removed in 1.2. Please use get_feature_names_out instead.\n",
      "  warnings.warn(msg, category=FutureWarning)\n"
     ]
    }
   ],
   "source": [
    "hshtg_vectorizer = TfidfVectorizer() #max_features=1000\n",
    "hshtg_vec = hshtg_vectorizer.fit_transform(tweets.hash_tag)\n",
    "print(hshtg_vec.shape)\n",
    "# print(hshtg_vectorizer.get_feature_names())\n",
    "tfidf_hashtags = hshtg_vectorizer.get_feature_names()\n",
    "\n",
    "hshtg_tfidf = pd.DataFrame(hshtg_vec.todense(), columns=tfidf_hashtags)"
   ]
  },
  {
   "cell_type": "code",
   "execution_count": 7,
   "id": "ec758600",
   "metadata": {
    "scrolled": true
   },
   "outputs": [
    {
     "name": "stdout",
     "output_type": "stream",
     "text": [
      "(47692, 174)\n"
     ]
    }
   ],
   "source": [
    "emoji_vectorizer = TfidfVectorizer()\n",
    "emoji_vec = emoji_vectorizer.fit_transform(tweets.emoji_tag)\n",
    "print(emoji_vec.shape)\n",
    "# print(emoji_vectorizer.get_feature_names())\n",
    "\n",
    "tfidf_emojis = emoji_vectorizer.get_feature_names()\n",
    "\n",
    "emoji_tfidf = pd.DataFrame(emoji_vec.todense(), columns=tfidf_emojis)"
   ]
  },
  {
   "cell_type": "code",
   "execution_count": 8,
   "id": "45a0c437",
   "metadata": {},
   "outputs": [
    {
     "name": "stdout",
     "output_type": "stream",
     "text": [
      "(47692, 2791)\n"
     ]
    }
   ],
   "source": [
    "tfidf_vec = TfidfVectorizer(min_df=.0005, max_df=.90)\n",
    "tfidf = tfidf_vec.fit_transform(tweets.clean_tweet)\n",
    "print(tfidf.shape)\n",
    "tfidf_tweet_terms = tfidf_vec.get_feature_names()\n",
    "\n",
    "tweets_tfidf = pd.DataFrame(tfidf.todense(), columns=tfidf_tweet_terms)"
   ]
  },
  {
   "cell_type": "code",
   "execution_count": 9,
   "id": "03e322df",
   "metadata": {},
   "outputs": [
    {
     "name": "stdout",
     "output_type": "stream",
     "text": [
      "(47692, 4555)\n",
      "(47692, 174)\n",
      "(47692, 2791)\n"
     ]
    }
   ],
   "source": [
    "print(hshtg_tfidf.shape)\n",
    "print(emoji_tfidf.shape)\n",
    "print(tweets_tfidf.shape) # total 7810 columns"
   ]
  },
  {
   "cell_type": "code",
   "execution_count": 10,
   "id": "1388eaa2",
   "metadata": {
    "scrolled": true
   },
   "outputs": [
    {
     "name": "stdout",
     "output_type": "stream",
     "text": [
      "(47692, 7522)\n"
     ]
    }
   ],
   "source": [
    "final_tweets = pd.concat([tweets[['tweet_text','cyberbullying_type']], tweets_tfidf, hshtg_tfidf, emoji_tfidf], axis=1)\n",
    "print(final_tweets.shape)"
   ]
  },
  {
   "cell_type": "code",
   "execution_count": 11,
   "id": "8a20b3a4",
   "metadata": {
    "scrolled": true
   },
   "outputs": [
    {
     "name": "stdout",
     "output_type": "stream",
     "text": [
      "(47692, 7007)\n"
     ]
    }
   ],
   "source": [
    "final_tweets = final_tweets.loc[:,~final_tweets.columns.duplicated()]\n",
    "print(final_tweets.shape)"
   ]
  },
  {
   "cell_type": "markdown",
   "id": "cf9b3599",
   "metadata": {},
   "source": [
    "## Feature Importance"
   ]
  },
  {
   "cell_type": "code",
   "execution_count": 12,
   "id": "116bbe0d",
   "metadata": {},
   "outputs": [],
   "source": [
    "X = final_tweets.drop(['tweet_text','cyberbullying_type'], axis=1)\n",
    "Y = final_tweets.cyberbullying_type"
   ]
  },
  {
   "cell_type": "code",
   "execution_count": 16,
   "id": "f16af338",
   "metadata": {},
   "outputs": [],
   "source": [
    "def decisionTreeFeatImp(X_train, y_train):\n",
    "    grid_params = {'max_depth' : [int(x) for x in np.linspace(190, 220, num = 20)],#[85, 87, 89, 90, 91, 93],\n",
    "                   'criterion' : ['entropy', 'gini'], \n",
    "                   'splitter' : ['best', 'random'] }\n",
    "    \n",
    "        \n",
    "    dt_clf = DecisionTreeClassifier()\n",
    "    dt_cv = GridSearchCV(estimator = dt_clf, \n",
    "                                   param_grid = grid_params, \n",
    "                                   cv = 7, \n",
    "                                   verbose=2, \n",
    "                                   n_jobs = -1, \n",
    "                                   scoring = 'f1_weighted')\n",
    "    \n",
    "    dt_cv.fit(X_train, y_train.values.ravel())\n",
    "    dt_best = dt_cv.best_estimator_\n",
    "    print(\"dt_cv.best_params_\", dt_cv.best_params_)\n",
    "    y_predicted = dt_best.predict(X_train)\n",
    "    dt_accuracy = accuracy_score(y_train, y_predicted)\n",
    "    dt_f1 = f1_score(y_train, y_predicted, average=\"weighted\")\n",
    "    \n",
    "    print(\"In sample accurancy = \", dt_accuracy)\n",
    "    print(\"In sample f1 = \", dt_f1)\n",
    "    print('Best Params = ', dt_cv.best_params_)\n",
    "    \n",
    "    feat_imp = dt_best.feature_importances_\n",
    "    return feat_imp\n",
    "\n",
    "\n",
    "# # define the model\n",
    "# model = DecisionTreeClassifier()\n",
    "# # fit the model\n",
    "# model.fit(X, Y)\n",
    "# # get importance\n",
    "# imp_features = model.feature_importances_"
   ]
  },
  {
   "cell_type": "code",
   "execution_count": 19,
   "id": "0f9530f1",
   "metadata": {},
   "outputs": [
    {
     "name": "stdout",
     "output_type": "stream",
     "text": [
      "Fitting 7 folds for each of 80 candidates, totalling 560 fits\n",
      "dt_cv.best_params_ {'criterion': 'gini', 'max_depth': 215, 'splitter': 'random'}\n",
      "In sample accurancy =  0.9231736978948252\n",
      "In sample f1 =  0.9237135896095231\n",
      "Best Params =  {'criterion': 'gini', 'max_depth': 215, 'splitter': 'random'}\n",
      "CPU times: user 26.6 s, sys: 5.05 s, total: 31.6 s\n",
      "Wall time: 52min 4s\n"
     ]
    }
   ],
   "source": [
    "%%time\n",
    "feat_imp = decisionTreeFeatImp(X,Y)"
   ]
  },
  {
   "cell_type": "code",
   "execution_count": 26,
   "id": "99870399",
   "metadata": {},
   "outputs": [],
   "source": [
    "feat_imp_index = feat_imp.argsort()[::-1]"
   ]
  },
  {
   "cell_type": "code",
   "execution_count": 54,
   "id": "0a9a13d8",
   "metadata": {},
   "outputs": [],
   "source": [
    "imp_cols = list(X.columns[feat_imp_index[:1757]])"
   ]
  },
  {
   "cell_type": "code",
   "execution_count": 57,
   "id": "7ae2e5bc",
   "metadata": {},
   "outputs": [
    {
     "data": {
      "text/plain": [
       "1757"
      ]
     },
     "execution_count": 57,
     "metadata": {},
     "output_type": "execute_result"
    }
   ],
   "source": [
    "len(imp_cols)"
   ]
  },
  {
   "cell_type": "markdown",
   "id": "4f70a380",
   "metadata": {},
   "source": [
    "We extract only the necessary columns to a new dataframe that will be used henceforth"
   ]
  },
  {
   "cell_type": "code",
   "execution_count": 58,
   "id": "7260f45e",
   "metadata": {},
   "outputs": [],
   "source": [
    "X_mod = X[imp_cols]"
   ]
  },
  {
   "cell_type": "code",
   "execution_count": 65,
   "id": "ab4fc216",
   "metadata": {},
   "outputs": [],
   "source": [
    "df_for_models = pd.concat([X_mod, Y],axis=1)"
   ]
  },
  {
   "cell_type": "code",
   "execution_count": 71,
   "id": "0e1f1004",
   "metadata": {},
   "outputs": [],
   "source": [
    "df_for_models.to_csv(\"../data/df_for_models.csv\", index=False)"
   ]
  },
  {
   "cell_type": "markdown",
   "id": "bce75361",
   "metadata": {},
   "source": [
    "# Model training"
   ]
  },
  {
   "cell_type": "code",
   "execution_count": 3,
   "id": "e008c2f7",
   "metadata": {},
   "outputs": [],
   "source": [
    "df = pd.read_csv(\"../data/df_for_models.csv\")"
   ]
  },
  {
   "cell_type": "code",
   "execution_count": 4,
   "id": "23b771d6",
   "metadata": {},
   "outputs": [],
   "source": [
    "X = df.drop(['cyberbullying_type'], axis=1)\n",
    "Y = df.cyberbullying_type"
   ]
  },
  {
   "cell_type": "code",
   "execution_count": 5,
   "id": "86901da5",
   "metadata": {},
   "outputs": [
    {
     "name": "stdout",
     "output_type": "stream",
     "text": [
      "(47692, 1757)\n",
      "(47692,)\n"
     ]
    }
   ],
   "source": [
    "print(X.shape)\n",
    "print(Y.shape)"
   ]
  },
  {
   "cell_type": "code",
   "execution_count": 6,
   "id": "946d9245",
   "metadata": {},
   "outputs": [],
   "source": [
    "X_train, X_test, y_train, y_test = train_test_split(X, Y, test_size=0.3, random_state=42)"
   ]
  },
  {
   "cell_type": "code",
   "execution_count": null,
   "id": "4a737b5f",
   "metadata": {},
   "outputs": [],
   "source": []
  },
  {
   "cell_type": "code",
   "execution_count": null,
   "id": "6766f493",
   "metadata": {},
   "outputs": [],
   "source": []
  },
  {
   "cell_type": "code",
   "execution_count": null,
   "id": "571b3234",
   "metadata": {},
   "outputs": [],
   "source": []
  },
  {
   "cell_type": "code",
   "execution_count": null,
   "id": "ee0a9ae5",
   "metadata": {},
   "outputs": [],
   "source": []
  }
 ],
 "metadata": {
  "kernelspec": {
   "display_name": "Python 3 (ipykernel)",
   "language": "python",
   "name": "python3"
  },
  "language_info": {
   "codemirror_mode": {
    "name": "ipython",
    "version": 3
   },
   "file_extension": ".py",
   "mimetype": "text/x-python",
   "name": "python",
   "nbconvert_exporter": "python",
   "pygments_lexer": "ipython3",
   "version": "3.8.8"
  }
 },
 "nbformat": 4,
 "nbformat_minor": 5
}
