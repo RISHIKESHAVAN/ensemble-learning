{
 "cells": [
  {
   "cell_type": "code",
   "execution_count": 1,
   "id": "ef528bbe",
   "metadata": {},
   "outputs": [],
   "source": [
    "import pandas as pd\n",
    "import numpy as np"
   ]
  },
  {
   "cell_type": "code",
   "execution_count": 2,
   "id": "4e06c8d6",
   "metadata": {},
   "outputs": [],
   "source": [
    "data = pd.read_csv(r\"/Users/basmaweh/Desktop/df_for_models.csv\")"
   ]
  },
  {
   "cell_type": "code",
   "execution_count": 3,
   "id": "50d8f033",
   "metadata": {},
   "outputs": [],
   "source": [
    "from sklearn.ensemble import AdaBoostClassifier\n",
    "model = AdaBoostClassifier()"
   ]
  },
  {
   "cell_type": "code",
   "execution_count": 5,
   "id": "089553f4",
   "metadata": {},
   "outputs": [],
   "source": [
    "from sklearn.model_selection import GridSearchCV\n",
    "parameters = {'n_estimators': [850, 900, 1000, 1100],\n",
    "              'learning_rate':[1.3, 1.4, 1.5, 1.6, 1.7],\n",
    "              'algorithm' : [\"SAMME\", \"SAMME.R\"]}"
   ]
  },
  {
   "cell_type": "code",
   "execution_count": 6,
   "id": "234a4dfa",
   "metadata": {},
   "outputs": [],
   "source": [
    "clf = GridSearchCV( model, parameters, cv=3, n_jobs=6)"
   ]
  },
  {
   "cell_type": "code",
   "execution_count": 7,
   "id": "f3dd2107",
   "metadata": {},
   "outputs": [],
   "source": [
    "X = data.drop(\"cyberbullying_type\", axis=1)\n",
    "y = data[\"cyberbullying_type\"]"
   ]
  },
  {
   "cell_type": "code",
   "execution_count": 8,
   "id": "bb249d94",
   "metadata": {},
   "outputs": [
    {
     "name": "stdout",
     "output_type": "stream",
     "text": [
      "CPU times: user 6min 41s, sys: 2min 24s, total: 9min 5s\n",
      "Wall time: 3h 42min 41s\n"
     ]
    },
    {
     "data": {
      "text/plain": [
       "GridSearchCV(cv=3, estimator=AdaBoostClassifier(), n_jobs=6,\n",
       "             param_grid={'algorithm': ['SAMME', 'SAMME.R'],\n",
       "                         'learning_rate': [1.3, 1.4, 1.5, 1.6, 1.7],\n",
       "                         'n_estimators': [850, 900, 1000, 1100]})"
      ]
     },
     "execution_count": 8,
     "metadata": {},
     "output_type": "execute_result"
    }
   ],
   "source": [
    "%%time\n",
    "clf.fit(X, y)"
   ]
  },
  {
   "cell_type": "code",
   "execution_count": 9,
   "id": "b7ee668c",
   "metadata": {},
   "outputs": [
    {
     "data": {
      "text/plain": [
       "0.7942631679506601"
      ]
     },
     "execution_count": 9,
     "metadata": {},
     "output_type": "execute_result"
    }
   ],
   "source": [
    "clf.best_score_"
   ]
  },
  {
   "cell_type": "code",
   "execution_count": 10,
   "id": "5ec23ad5",
   "metadata": {},
   "outputs": [
    {
     "data": {
      "text/plain": [
       "{'algorithm': 'SAMME', 'learning_rate': 1.7, 'n_estimators': 1000}"
      ]
     },
     "execution_count": 10,
     "metadata": {},
     "output_type": "execute_result"
    }
   ],
   "source": [
    "clf.best_params_"
   ]
  }
 ],
 "metadata": {
  "kernelspec": {
   "display_name": "Python 3",
   "language": "python",
   "name": "python3"
  },
  "language_info": {
   "codemirror_mode": {
    "name": "ipython",
    "version": 3
   },
   "file_extension": ".py",
   "mimetype": "text/x-python",
   "name": "python",
   "nbconvert_exporter": "python",
   "pygments_lexer": "ipython3",
   "version": "3.8.8"
  }
 },
 "nbformat": 4,
 "nbformat_minor": 5
}
