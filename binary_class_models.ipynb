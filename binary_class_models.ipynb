{
 "cells": [
  {
   "cell_type": "code",
   "execution_count": 1,
   "id": "163cfac4",
   "metadata": {},
   "outputs": [
    {
     "name": "stderr",
     "output_type": "stream",
     "text": [
      "[nltk_data] Downloading package punkt to\n",
      "[nltk_data]     C:\\Users\\rkroc\\AppData\\Roaming\\nltk_data...\n",
      "[nltk_data]   Package punkt is already up-to-date!\n",
      "[nltk_data] Downloading package stopwords to\n",
      "[nltk_data]     C:\\Users\\rkroc\\AppData\\Roaming\\nltk_data...\n",
      "[nltk_data]   Package stopwords is already up-to-date!\n"
     ]
    }
   ],
   "source": [
    "import numpy as np\n",
    "import pandas as pd\n",
    "import regex as re\n",
    "from matplotlib import pyplot as plt\n",
    "import seaborn as sns\n",
    "from sklearn.model_selection import GridSearchCV\n",
    "import nltk\n",
    "nltk.download('punkt')\n",
    "nltk.download('stopwords')\n",
    "from sklearn.feature_extraction.text import CountVectorizer,TfidfVectorizer\n",
    "from nltk.corpus import stopwords\n",
    "from nltk.tokenize import word_tokenize\n",
    "\n",
    "from sklearn.preprocessing import LabelEncoder\n",
    "from sklearn.preprocessing import StandardScaler\n",
    "from sklearn.preprocessing import OneHotEncoder\n",
    "\n",
    "from sklearn.model_selection import StratifiedKFold\n",
    "from sklearn.model_selection import cross_val_score\n",
    "from sklearn.model_selection import train_test_split\n",
    "\n",
    "from sklearn.metrics import accuracy_score\n",
    "from sklearn.metrics import f1_score\n",
    "\n",
    "from imblearn.ensemble import BalancedRandomForestClassifier\n",
    "from sklearn.ensemble import ExtraTreesClassifier\n",
    "from sklearn.ensemble import RandomForestClassifier\n",
    "from sklearn.tree import DecisionTreeClassifier\n",
    "from sklearn.metrics import confusion_matrix\n",
    "from sklearn.model_selection import RepeatedStratifiedKFold\n",
    "from sklearn.metrics import classification_report\n",
    "\n",
    "from sklearn.utils import class_weight\n",
    "import xgboost as xgb\n",
    "import lightgbm as lgb\n",
    "from xgboost import XGBClassifier\n",
    "from xgboost import plot_importance\n"
   ]
  },
  {
   "cell_type": "code",
   "execution_count": 2,
   "id": "4002b0ae",
   "metadata": {},
   "outputs": [],
   "source": [
    "data = pd.read_csv('clean_data.csv')"
   ]
  },
  {
   "cell_type": "code",
   "execution_count": 3,
   "id": "2fefa21c",
   "metadata": {},
   "outputs": [
    {
     "data": {
      "text/plain": [
       "tweet        134\n",
       "target         0\n",
       "hashtag    40728\n",
       "name       29594\n",
       "url        43391\n",
       "emoji      47252\n",
       "dtype: int64"
      ]
     },
     "execution_count": 3,
     "metadata": {},
     "output_type": "execute_result"
    }
   ],
   "source": [
    "data.isnull().sum() # number of nulls in the data"
   ]
  },
  {
   "cell_type": "code",
   "execution_count": 4,
   "id": "7acf1874",
   "metadata": {},
   "outputs": [],
   "source": [
    "data = data.fillna('') # filling the null value with an empty text"
   ]
  },
  {
   "cell_type": "markdown",
   "id": "f207f0ea",
   "metadata": {},
   "source": [
    "# converting the target column into binary format"
   ]
  },
  {
   "cell_type": "code",
   "execution_count": 5,
   "id": "45215623",
   "metadata": {},
   "outputs": [],
   "source": [
    "data.loc[data['target']!='not_cyberbullying','target']=1\n",
    "data.loc[data['target']=='not_cyberbullying','target']=0\n",
    "data['target'] = data['target'].astype('int')"
   ]
  },
  {
   "cell_type": "code",
   "execution_count": 6,
   "id": "d6ee19e1",
   "metadata": {},
   "outputs": [
    {
     "data": {
      "text/plain": [
       "1    83.341022\n",
       "0    16.658978\n",
       "Name: target, dtype: float64"
      ]
     },
     "execution_count": 6,
     "metadata": {},
     "output_type": "execute_result"
    }
   ],
   "source": [
    "data['target'].value_counts(normalize=1)*100 #data is not balanced"
   ]
  },
  {
   "cell_type": "code",
   "execution_count": 7,
   "id": "fc1c7623",
   "metadata": {},
   "outputs": [
    {
     "name": "stderr",
     "output_type": "stream",
     "text": [
      "<ipython-input-7-6f15a4babad8>:8: FutureWarning: The default value of regex will change from True to False in a future version. In addition, single character regular expressions will*not* be treated as literal strings when regex=True.\n",
      "  data[col] = data[col].str.replace(\"[\",'')\n",
      "<ipython-input-7-6f15a4babad8>:9: FutureWarning: The default value of regex will change from True to False in a future version. In addition, single character regular expressions will*not* be treated as literal strings when regex=True.\n",
      "  data[col] = data[col].str.replace(\"]\",'')\n"
     ]
    }
   ],
   "source": [
    "# getting the length for each of the hashtag name url and emoji column\n",
    "for col in ['hashtag','name','url','emoji']:\n",
    "    data[col+\"_len\"] = data[col].apply(lambda x:len(x))\n",
    "#adding some preprocessing to clean some faetures(hashtag,name,url,emoji)\n",
    "for col in ['hashtag','name','url','emoji']:\n",
    "    data[col] = data[col].apply(lambda x:re.sub(r\"[,']\",'',x))\n",
    "for col in ['hashtag','name','url','emoji']:\n",
    "    data[col] = data[col].str.replace(\"[\",'')\n",
    "    data[col] = data[col].str.replace(\"]\",'')\n",
    "    if col =='emoji':\n",
    "        data[col] = data[col].str.replace(\"_\",' ')"
   ]
  },
  {
   "cell_type": "markdown",
   "id": "fa7c0c5b",
   "metadata": {},
   "source": [
    "# Removing the stop words"
   ]
  },
  {
   "cell_type": "code",
   "execution_count": 8,
   "id": "7a25aae7",
   "metadata": {},
   "outputs": [
    {
     "name": "stdout",
     "output_type": "stream",
     "text": [
      "Done! tweet\n",
      "Done! hashtag\n",
      "Done! name\n",
      "Done! url\n",
      "Done! emoji\n"
     ]
    },
    {
     "data": {
      "text/html": [
       "<div>\n",
       "<style scoped>\n",
       "    .dataframe tbody tr th:only-of-type {\n",
       "        vertical-align: middle;\n",
       "    }\n",
       "\n",
       "    .dataframe tbody tr th {\n",
       "        vertical-align: top;\n",
       "    }\n",
       "\n",
       "    .dataframe thead th {\n",
       "        text-align: right;\n",
       "    }\n",
       "</style>\n",
       "<table border=\"1\" class=\"dataframe\">\n",
       "  <thead>\n",
       "    <tr style=\"text-align: right;\">\n",
       "      <th></th>\n",
       "      <th>tweet</th>\n",
       "      <th>target</th>\n",
       "      <th>hashtag</th>\n",
       "      <th>name</th>\n",
       "      <th>url</th>\n",
       "      <th>emoji</th>\n",
       "      <th>hashtag_len</th>\n",
       "      <th>name_len</th>\n",
       "      <th>url_len</th>\n",
       "      <th>emoji_len</th>\n",
       "    </tr>\n",
       "  </thead>\n",
       "  <tbody>\n",
       "    <tr>\n",
       "      <th>0</th>\n",
       "      <td>words food crapilicious</td>\n",
       "      <td>0</td>\n",
       "      <td>katandandre</td>\n",
       "      <td></td>\n",
       "      <td></td>\n",
       "      <td></td>\n",
       "      <td>22</td>\n",
       "      <td>0</td>\n",
       "      <td>0</td>\n",
       "      <td>0</td>\n",
       "    </tr>\n",
       "    <tr>\n",
       "      <th>1</th>\n",
       "      <td>white studio</td>\n",
       "      <td>0</td>\n",
       "      <td>aussietv theblock imacelebrityau today sunrise...</td>\n",
       "      <td></td>\n",
       "      <td></td>\n",
       "      <td></td>\n",
       "      <td>119</td>\n",
       "      <td>0</td>\n",
       "      <td>0</td>\n",
       "      <td>0</td>\n",
       "    </tr>\n",
       "    <tr>\n",
       "      <th>2</th>\n",
       "      <td>classy whore red velvet cupcakes</td>\n",
       "      <td>0</td>\n",
       "      <td></td>\n",
       "      <td>xochitlsuckkks</td>\n",
       "      <td></td>\n",
       "      <td></td>\n",
       "      <td>0</td>\n",
       "      <td>18</td>\n",
       "      <td>0</td>\n",
       "      <td>0</td>\n",
       "    </tr>\n",
       "    <tr>\n",
       "      <th>3</th>\n",
       "      <td>meh p thanks heads concerned another angry dud...</td>\n",
       "      <td>0</td>\n",
       "      <td></td>\n",
       "      <td>jasongio</td>\n",
       "      <td></td>\n",
       "      <td></td>\n",
       "      <td>0</td>\n",
       "      <td>12</td>\n",
       "      <td>0</td>\n",
       "      <td>0</td>\n",
       "    </tr>\n",
       "    <tr>\n",
       "      <th>4</th>\n",
       "      <td>isis account pretending kurdish account like i...</td>\n",
       "      <td>0</td>\n",
       "      <td></td>\n",
       "      <td>rudhoeenglish</td>\n",
       "      <td></td>\n",
       "      <td></td>\n",
       "      <td>0</td>\n",
       "      <td>17</td>\n",
       "      <td>0</td>\n",
       "      <td>0</td>\n",
       "    </tr>\n",
       "  </tbody>\n",
       "</table>\n",
       "</div>"
      ],
      "text/plain": [
       "                                               tweet  target  \\\n",
       "0                            words food crapilicious       0   \n",
       "1                                       white studio       0   \n",
       "2                   classy whore red velvet cupcakes       0   \n",
       "3  meh p thanks heads concerned another angry dud...       0   \n",
       "4  isis account pretending kurdish account like i...       0   \n",
       "\n",
       "                                             hashtag            name url  \\\n",
       "0                                        katandandre                       \n",
       "1  aussietv theblock imacelebrityau today sunrise...                       \n",
       "2                                                     xochitlsuckkks       \n",
       "3                                                           jasongio       \n",
       "4                                                      rudhoeenglish       \n",
       "\n",
       "  emoji  hashtag_len  name_len  url_len  emoji_len  \n",
       "0                 22         0        0          0  \n",
       "1                119         0        0          0  \n",
       "2                  0        18        0          0  \n",
       "3                  0        12        0          0  \n",
       "4                  0        17        0          0  "
      ]
     },
     "execution_count": 8,
     "metadata": {},
     "output_type": "execute_result"
    }
   ],
   "source": [
    "stop_words = stopwords.words('english')\n",
    "stop_words.extend(['rt', 'mkr', 'didn', 'bc', 'n', 'm', 'im', 'll', 'y', 've', 'u', 'ur', 'don', 't', 's','etc'])\n",
    "text_col = data.loc[:,data.dtypes=='object'].columns\n",
    "for col in text_col:\n",
    "    data[col] = data[col].apply(lambda x: ' '.join([word for word in x.split() if word not in (stop_words)]))\n",
    "    print(\"Done! {}\".format(col))\n",
    "data.head()"
   ]
  },
  {
   "cell_type": "code",
   "execution_count": 9,
   "id": "c731bd3b",
   "metadata": {},
   "outputs": [],
   "source": [
    "def data_formation(vectoriser_type='VT'):\n",
    "    if vectoriser_type=='count_vectoriser':\n",
    "        cv_t = CountVectorizer(max_features = 1500,ngram_range=(1,3))\n",
    "        cv_h = CountVectorizer(max_features = 500,ngram_range=(1,1))\n",
    "        cv_e = CountVectorizer(max_features = 500,ngram_range=(1,1))\n",
    "    else:\n",
    "        cv_t = TfidfVectorizer(max_features = 1500,ngram_range=(1,3))\n",
    "        cv_h = TfidfVectorizer(max_features = 500,ngram_range=(1,1))\n",
    "        cv_e = TfidfVectorizer(max_features = 500,ngram_range=(1,1))\n",
    "        \n",
    "    \n",
    "    t_array = cv_t.fit_transform(data['tweet']).toarray()\n",
    "    e_array = cv_e.fit_transform(data['emoji']).toarray()\n",
    "    h_array = cv_h.fit_transform(data['hashtag']).toarray()\n",
    "    \n",
    "    extra = data[['hashtag_len','name_len','url_len','emoji_len']].values\n",
    "    extra = np.asarray(extra)\n",
    "    \n",
    "    X = np.hstack((t_array,h_array,e_array,extra))\n",
    "    y = data['target'].values\n",
    "    print(X.shape,y.shape)\n",
    "    \n",
    "    X_train, X_test, y_train, y_test = train_test_split(X, y, test_size = 0.20, random_state = 0)\n",
    "    return X_train, X_test, y_train, y_test"
   ]
  },
  {
   "cell_type": "markdown",
   "id": "b50b1e7b",
   "metadata": {},
   "source": [
    "# Rishi now move to HPT blocks and delete this cell"
   ]
  },
  {
   "cell_type": "markdown",
   "id": "665b8a52",
   "metadata": {},
   "source": [
    "# using the Count vectorizer "
   ]
  },
  {
   "cell_type": "code",
   "execution_count": 10,
   "id": "2a7bebf3",
   "metadata": {},
   "outputs": [
    {
     "name": "stdout",
     "output_type": "stream",
     "text": [
      "(47692, 2214) (47692,)\n"
     ]
    }
   ],
   "source": [
    "X_train, X_test, y_train, y_test = data_formation(vectoriser_type='count_vectoriser')"
   ]
  },
  {
   "cell_type": "code",
   "execution_count": 11,
   "id": "fcdba035",
   "metadata": {},
   "outputs": [
    {
     "name": "stdout",
     "output_type": "stream",
     "text": [
      "F1-score 0.8200020966558339\n",
      "              precision    recall  f1-score   support\n",
      "\n",
      "           0       0.46      0.51      0.48      1572\n",
      "           1       0.90      0.88      0.89      7967\n",
      "\n",
      "    accuracy                           0.82      9539\n",
      "   macro avg       0.68      0.70      0.69      9539\n",
      "weighted avg       0.83      0.82      0.82      9539\n",
      "\n"
     ]
    }
   ],
   "source": [
    "#Decision tree Classifier on count vectoriser\n",
    "clf = DecisionTreeClassifier()\n",
    "clf.fit(X_train,y_train)\n",
    "pred= clf.predict(X_test)\n",
    "acc = f1_score(pred,y_test,average='micro')\n",
    "print(\"F1-score\",acc)\n",
    "print(classification_report(y_test,pred))"
   ]
  },
  {
   "cell_type": "code",
   "execution_count": 12,
   "id": "570d1971",
   "metadata": {},
   "outputs": [
    {
     "data": {
      "text/plain": [
       "0.8501939406646399"
      ]
     },
     "execution_count": 12,
     "metadata": {},
     "output_type": "execute_result"
    }
   ],
   "source": [
    "#Random Forest Classifier\n",
    "clf = RandomForestClassifier(n_estimators=100,random_state=1,n_jobs=-1)\n",
    "clf.fit(X_train,y_train)\n",
    "pred_rf = clf.predict(X_test)\n",
    "f1_score(y_test,pred_rf,average='micro')"
   ]
  },
  {
   "cell_type": "code",
   "execution_count": 13,
   "id": "522826f9",
   "metadata": {},
   "outputs": [
    {
     "data": {
      "image/png": "[encoded data removed]",
      "text/plain": [
       "<Figure size 360x360 with 2 Axes>"
      ]
     },
     "metadata": {
      "needs_background": "light"
     },
     "output_type": "display_data"
    }
   ],
   "source": [
    "matrix = confusion_matrix(y_test, pred_rf)\n",
    "matrix = matrix.astype('float') / matrix.sum(axis=1)[:, np.newaxis]\n",
    "\n",
    "# Build the plot\n",
    "plt.figure(figsize=(5,5))\n",
    "sns.set(font_scale=1.4)\n",
    "sns.heatmap(matrix, annot=True, annot_kws={'size':10},\n",
    "            cmap=plt.cm.Greens, linewidths=0.2)\n",
    "\n",
    "# Add labels to the plot\n",
    "class_names = ['not_cyberbullying','cyber_bullying']\n",
    "tick_marks = np.arange(len(class_names))\n",
    "tick_marks2 = tick_marks + 0.5\n",
    "plt.xticks(tick_marks, class_names, rotation=25)\n",
    "plt.yticks(tick_marks2, class_names, rotation=0)\n",
    "plt.xlabel('Predicted label')\n",
    "plt.ylabel('True label')\n",
    "plt.title('Confusion Matrix for XG BOOST Model')\n",
    "plt.show()"
   ]
  },
  {
   "cell_type": "code",
   "execution_count": 15,
   "id": "569bfb14",
   "metadata": {},
   "outputs": [
    {
     "name": "stderr",
     "output_type": "stream",
     "text": [
      "[Parallel(n_jobs=-1)]: Using backend LokyBackend with 8 concurrent workers.\n",
      "[Parallel(n_jobs=-1)]: Done  26 out of  30 | elapsed:  4.8min remaining:   44.4s\n",
      "[Parallel(n_jobs=-1)]: Done  30 out of  30 | elapsed:  4.9min finished\n"
     ]
    },
    {
     "name": "stdout",
     "output_type": "stream",
     "text": [
      "0.79 accuracy with a standard deviation of 0.01\n"
     ]
    }
   ],
   "source": [
    "#balanced random forest classifier\n",
    "model_rb1 = BalancedRandomForestClassifier(n_estimators=100) # performs random under sampling of majority class in each sample\n",
    "cv = RepeatedStratifiedKFold(n_splits=10, n_repeats=3, random_state=1)\n",
    "scores = cross_val_score(model_rb1, X_train, y_train, scoring='f1_micro', cv=cv, n_jobs=-1,verbose=3)\n",
    "print(\"%0.2f accuracy with a standard deviation of %0.2f\" % (scores.mean(), scores.std()))"
   ]
  },
  {
   "cell_type": "code",
   "execution_count": null,
   "id": "3d9bba26",
   "metadata": {},
   "outputs": [],
   "source": [
    "#Extra Tree classifier\n",
    "clf = ExtraTreesClassifier(n_estimators=100)\n",
    "clf.fit(X_train, y_train)\n",
    "pred = clf.predict(X_test)\n",
    "f1_score(pred,y_test,average='micro')"
   ]
  },
  {
   "cell_type": "code",
   "execution_count": null,
   "id": "be50dc03",
   "metadata": {},
   "outputs": [],
   "source": [
    "#xgboost classifier\n",
    "model_xgb = XGBClassifier(objective='binary:logistic',eval_metric='logloss')\n",
    "eval_set = [(X_train, y_train),(X_test,y_test)]\n",
    "model_xgb.fit(X_train, y_train, eval_metric=[\"error\",\"logloss\"], eval_set=eval_set, verbose=False)\n",
    "pred_xgb = model_xgb.predict(X_test) #Evaluating on the test data\n",
    "print(f1_score(y_test,pred_xgb_b,average='micro'))"
   ]
  },
  {
   "cell_type": "code",
   "execution_count": null,
   "id": "05af62fc",
   "metadata": {},
   "outputs": [],
   "source": [
    "print(classification_report(y_test,pred_xgb))"
   ]
  },
  {
   "cell_type": "code",
   "execution_count": null,
   "id": "c952c9f5",
   "metadata": {},
   "outputs": [],
   "source": [
    "results = model_xgb.evals_result()\n",
    "epochs = len(results['validation_0']['error'])\n",
    "x_axis = range(0, epochs)\n",
    "#plot log loss\n",
    "fig, ax = plt.subplots()\n",
    "ax.plot(x_axis, results['validation_0']['logloss'], label='Train')\n",
    "ax.plot(x_axis, results['validation_1']['logloss'], label='Test')\n",
    "ax.legend()\n",
    "plt.ylabel('Log Loss')\n",
    "plt.title('XGBoost Log Loss')\n",
    "plt.show()\n",
    "#plot classification error\n",
    "fig, ax = plt.subplots()\n",
    "ax.plot(x_axis, results['validation_0']['error'], label='Train')\n",
    "ax.plot(x_axis, results['validation_1']['error'], label='Test')\n",
    "ax.legend()\n",
    "plt.ylabel('Classification Error')\n",
    "plt.title('XGBoost Classification Error')\n",
    "plt.show()"
   ]
  },
  {
   "cell_type": "code",
   "execution_count": null,
   "id": "f2d40004",
   "metadata": {},
   "outputs": [],
   "source": [
    "#light gbm classifier\n",
    "lgb_class = lgb.LGBMClassifier(n_estimators=100)\n",
    "lgb_class.fit(X_train,y_train)\n",
    "lgb_pred = lgb_class.predict(X_test)\n",
    "f1_score(y_test,lgb_pred,average='micro')"
   ]
  },
  {
   "cell_type": "markdown",
   "id": "9d170fe1",
   "metadata": {},
   "source": [
    "# using TF-IDF classifier"
   ]
  },
  {
   "cell_type": "code",
   "execution_count": 12,
   "id": "d878a759",
   "metadata": {},
   "outputs": [
    {
     "name": "stdout",
     "output_type": "stream",
     "text": [
      "(47692, 2214) (47692,)\n"
     ]
    }
   ],
   "source": [
    "X_train, X_test, y_train, y_test = data_formation(vectoriser_type='tf_idf')"
   ]
  },
  {
   "cell_type": "code",
   "execution_count": null,
   "id": "9ae9c0fd",
   "metadata": {},
   "outputs": [],
   "source": [
    "#Decision tree Classifier on count vectoriser\n",
    "clf = DecisionTreeClassifier()\n",
    "clf.fit(X_train,y_train)\n",
    "pred= clf.predict(X_test)\n",
    "acc = f1_score(pred,y_test,average='micro')\n",
    "print(\"F1-score\",acc)\n",
    "print(classification_report(y_test,pred))"
   ]
  },
  {
   "cell_type": "code",
   "execution_count": null,
   "id": "b2f4f3af",
   "metadata": {},
   "outputs": [],
   "source": [
    "#Random Forest Classifier\n",
    "clf = RandomForestClassifier(n_estimators=100,random_state=1,n_jobs=-1)\n",
    "clf.fit(X_train,y_train)\n",
    "pred_rf = clf.predict(X_test)\n",
    "f1_score(y_test,pred_rf,average='micro')"
   ]
  },
  {
   "cell_type": "code",
   "execution_count": null,
   "id": "94900fd3",
   "metadata": {},
   "outputs": [],
   "source": [
    "matrix = confusion_matrix(y_test, pred_rf)\n",
    "matrix = matrix.astype('float') / matrix.sum(axis=1)[:, np.newaxis]\n",
    "\n",
    "# Build the plot\n",
    "plt.figure(figsize=(5,5))\n",
    "sns.set(font_scale=1.4)\n",
    "sns.heatmap(matrix, annot=True, annot_kws={'size':10},\n",
    "            cmap=plt.cm.Greens, linewidths=0.2)\n",
    "\n",
    "# Add labels to the plot\n",
    "class_names = ['not_cyberbullying','cyber_bullying']\n",
    "tick_marks = np.arange(len(class_names))\n",
    "tick_marks2 = tick_marks + 0.5\n",
    "plt.xticks(tick_marks, class_names, rotation=25)\n",
    "plt.yticks(tick_marks2, class_names, rotation=0)\n",
    "plt.xlabel('Predicted label')\n",
    "plt.ylabel('True label')\n",
    "plt.title('Confusion Matrix for XG BOOST Model')\n",
    "plt.show()"
   ]
  },
  {
   "cell_type": "code",
   "execution_count": null,
   "id": "fbcd9f3a",
   "metadata": {},
   "outputs": [],
   "source": [
    "#balanced random forest classifier\n",
    "model_rb1 = BalancedRandomForestClassifier(n_estimators=100) # performs random under sampling of majority class in each sample\n",
    "cv = RepeatedStratifiedKFold(n_splits=10, n_repeats=3, random_state=1)\n",
    "scores = cross_val_score(model_rb1, X_train, y_train, scoring='f1_micro', cv=cv, n_jobs=-1,verbose=3)\n",
    "print(\"%0.2f accuracy with a standard deviation of %0.2f\" % (scores.mean(), scores.std()))"
   ]
  },
  {
   "cell_type": "code",
   "execution_count": null,
   "id": "3e0b1248",
   "metadata": {},
   "outputs": [],
   "source": [
    "#Extra Tree classifier\n",
    "clf = ExtraTreesClassifier(n_estimators=100)\n",
    "clf.fit(X_train, y_train)\n",
    "pred = clf.predict(X_test)\n",
    "f1_score(pred,y_test,average='micro')"
   ]
  },
  {
   "cell_type": "code",
   "execution_count": null,
   "id": "4a1003a4",
   "metadata": {},
   "outputs": [],
   "source": [
    "#xgboost classifier\n",
    "model_xgb = XGBClassifier(objective='binary:logistic',eval_metric='logloss')\n",
    "eval_set = [(X_train, y_train),(X_test,y_test)]\n",
    "model_xgb.fit(X_train, y_train, eval_metric=[\"error\",\"logloss\"], eval_set=eval_set, verbose=False)\n",
    "pred_xgb = model_xgb.predict(X_test) #Evaluating on the test data\n",
    "print(f1_score(y_test,pred_xgb_b,average='micro'))\n",
    "print(classification_report(y_test,pred_xgb))"
   ]
  },
  {
   "cell_type": "code",
   "execution_count": null,
   "id": "7118207f",
   "metadata": {},
   "outputs": [],
   "source": [
    "results = model_xgb.evals_result()\n",
    "epochs = len(results['validation_0']['error'])\n",
    "x_axis = range(0, epochs)\n",
    "#plot log loss\n",
    "fig, ax = plt.subplots()\n",
    "ax.plot(x_axis, results['validation_0']['logloss'], label='Train')\n",
    "ax.plot(x_axis, results['validation_1']['logloss'], label='Test')\n",
    "ax.legend()\n",
    "plt.ylabel('Log Loss')\n",
    "plt.title('XGBoost Log Loss')\n",
    "plt.show()\n",
    "#plot classification error\n",
    "fig, ax = plt.subplots()\n",
    "ax.plot(x_axis, results['validation_0']['error'], label='Train')\n",
    "ax.plot(x_axis, results['validation_1']['error'], label='Test')\n",
    "ax.legend()\n",
    "plt.ylabel('Classification Error')\n",
    "plt.title('XGBoost Classification Error')\n",
    "plt.show()"
   ]
  },
  {
   "cell_type": "code",
   "execution_count": null,
   "id": "fb19bdf6",
   "metadata": {},
   "outputs": [],
   "source": [
    "#light gbm classifier\n",
    "lgb_class = lgb.LGBMClassifier(n_estimators=100)\n",
    "lgb_class.fit(X_train,y_train)\n",
    "lgb_pred = lgb_class.predict(X_test)\n",
    "f1_score(y_test,lgb_pred,average='micro')"
   ]
  },
  {
   "cell_type": "markdown",
   "id": "90b464d2",
   "metadata": {},
   "source": [
    "# Hyper parametertuning for DT "
   ]
  },
  {
   "cell_type": "code",
   "execution_count": null,
   "id": "be1ac5da",
   "metadata": {},
   "outputs": [],
   "source": [
    "X_train, X_test, y_train, y_test = data_formation(vectoriser_type='tf_idf')"
   ]
  },
  {
   "cell_type": "code",
   "execution_count": null,
   "id": "c0169bce",
   "metadata": {},
   "outputs": [],
   "source": [
    "pgrid = {\"max_depth\": [3,4,5,6,7],\n",
    "      \"min_samples_split\": [5,10,15,20],\n",
    "        \"class_weight\":[None,\"balanced\"]}\n",
    "clf = DecisionTreeClassifier()\n",
    "grid_search = GridSearchCV(clf, param_grid=pgrid, scoring='f1_micro', cv=3,verbose=3)\n",
    "grid_search.fit(X, y)\n",
    "print(grid_search.best_params_)\n",
    "print(grid_search.best_estimator_.score(X_test, y_test))"
   ]
  },
  {
   "cell_type": "markdown",
   "id": "58f3bd66",
   "metadata": {},
   "source": [
    "# Hyper paramter tunng for Random Forest"
   ]
  },
  {
   "cell_type": "code",
   "execution_count": null,
   "id": "ec45ceb0",
   "metadata": {},
   "outputs": [
    {
     "name": "stdout",
     "output_type": "stream",
     "text": [
      "Fitting 3 folds for each of 9 candidates, totalling 27 fits\n"
     ]
    }
   ],
   "source": [
    "#max_features=0.2\n",
    "pgrid = {\"max_features\": [0.2, 0.4, 0.8],\n",
    "        \"n_estimators\":[100,150,200],\n",
    "        \"class_weight\":['balanced', None]}\n",
    "clf =RandomForestClassifier()\n",
    "grid_search = GridSearchCV(clf, param_grid=pgrid, scoring='f1_micro', cv=3,verbose=3)\n",
    "grid_search.fit(X, y)\n",
    "print(grid_search.best_params_)\n",
    "print(grid_search.best_estimator_.score(X_test, y_test))"
   ]
  },
  {
   "cell_type": "markdown",
   "id": "f1959516",
   "metadata": {},
   "source": [
    "# Hyper paramter tuning for LGB"
   ]
  },
  {
   "cell_type": "code",
   "execution_count": null,
   "id": "08cd48be",
   "metadata": {},
   "outputs": [],
   "source": [
    "pgrid = {\"max_samples\":[i/10 for i in range(1,11,3)],\n",
    "       \"max_features\":[i/10 for i in range(1,11,4)],\n",
    "       \"n_estimators\":[100,150,200],\n",
    "        \"learning_rate\":[0.01,0.05,0.1],\n",
    "         \"reg_lambda\" = [i/10.0 for i in range(0,11,3)]}\n",
    "clf =lgb.LGBMClassifier(objective='multiclass',metric='multi_logloss')\n",
    "grid_search = GridSearchCV(clf, param_grid=pgrid, scoring='f1_micro', cv=10,verbose=3)\n",
    "grid_search.fit(X, y)\n",
    "print(grid_search.best_params_)\n",
    "print(grid_search.best_estimator_.score(X_test, y_test))"
   ]
  }
 ],
 "metadata": {
  "kernelspec": {
   "display_name": "Python 3",
   "language": "python",
   "name": "python3"
  },
  "language_info": {
   "codemirror_mode": {
    "name": "ipython",
    "version": 3
   },
   "file_extension": ".py",
   "mimetype": "text/x-python",
   "name": "python",
   "nbconvert_exporter": "python",
   "pygments_lexer": "ipython3",
   "version": "3.8.8"
  }
 },
 "nbformat": 4,
 "nbformat_minor": 5
}
