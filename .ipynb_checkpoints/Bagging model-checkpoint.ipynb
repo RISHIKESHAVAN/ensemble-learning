{
 "cells": [
  {
   "cell_type": "code",
   "execution_count": 15,
   "id": "163cfac4",
   "metadata": {},
   "outputs": [
    {
     "name": "stderr",
     "output_type": "stream",
     "text": [
      "[nltk_data] Downloading package punkt to\n",
      "[nltk_data]     C:\\Users\\rkroc\\AppData\\Roaming\\nltk_data...\n",
      "[nltk_data]   Package punkt is already up-to-date!\n",
      "[nltk_data] Downloading package stopwords to\n",
      "[nltk_data]     C:\\Users\\rkroc\\AppData\\Roaming\\nltk_data...\n",
      "[nltk_data]   Package stopwords is already up-to-date!\n"
     ]
    }
   ],
   "source": [
    "import numpy as np\n",
    "import pandas as pd\n",
    "import regex as re\n",
    "import nltk\n",
    "nltk.download('punkt')\n",
    "nltk.download('stopwords')\n",
    "from sklearn.feature_extraction.text import TfidfVectorizer\n",
    "from sklearn.feature_extraction.text import CountVectorizer\n",
    "from nltk.corpus import stopwords\n",
    "from nltk.tokenize import word_tokenize\n",
    "from sklearn.preprocessing import LabelEncoder"
   ]
  },
  {
   "cell_type": "code",
   "execution_count": 34,
   "id": "4002b0ae",
   "metadata": {},
   "outputs": [],
   "source": [
    "data = pd.read_csv('clean_data.csv')"
   ]
  },
  {
   "cell_type": "code",
   "execution_count": 35,
   "id": "2fefa21c",
   "metadata": {},
   "outputs": [
    {
     "data": {
      "text/plain": [
       "tweet        134\n",
       "target         0\n",
       "hashtag    40728\n",
       "name       29594\n",
       "url        43391\n",
       "emoji      47252\n",
       "dtype: int64"
      ]
     },
     "execution_count": 35,
     "metadata": {},
     "output_type": "execute_result"
    }
   ],
   "source": [
    "data.isnull().sum()"
   ]
  },
  {
   "cell_type": "code",
   "execution_count": 36,
   "id": "7acf1874",
   "metadata": {},
   "outputs": [],
   "source": [
    "data = data.fillna('')"
   ]
  },
  {
   "cell_type": "code",
   "execution_count": 42,
   "id": "5d95b162",
   "metadata": {},
   "outputs": [
    {
     "data": {
      "text/html": [
       "<div>\n",
       "<style scoped>\n",
       "    .dataframe tbody tr th:only-of-type {\n",
       "        vertical-align: middle;\n",
       "    }\n",
       "\n",
       "    .dataframe tbody tr th {\n",
       "        vertical-align: top;\n",
       "    }\n",
       "\n",
       "    .dataframe thead th {\n",
       "        text-align: right;\n",
       "    }\n",
       "</style>\n",
       "<table border=\"1\" class=\"dataframe\">\n",
       "  <thead>\n",
       "    <tr style=\"text-align: right;\">\n",
       "      <th></th>\n",
       "      <th>tweet</th>\n",
       "      <th>target</th>\n",
       "      <th>hashtag</th>\n",
       "      <th>name</th>\n",
       "      <th>url</th>\n",
       "      <th>emoji</th>\n",
       "    </tr>\n",
       "  </thead>\n",
       "  <tbody>\n",
       "    <tr>\n",
       "      <th>0</th>\n",
       "      <td>in other words your food was crapilicious</td>\n",
       "      <td>3</td>\n",
       "      <td>['katandandre', 'mkr']</td>\n",
       "      <td></td>\n",
       "      <td></td>\n",
       "      <td></td>\n",
       "    </tr>\n",
       "    <tr>\n",
       "      <th>1</th>\n",
       "      <td>why is so white studio</td>\n",
       "      <td>3</td>\n",
       "      <td>['aussietv', 'mkr', 'theblock', 'imacelebritya...</td>\n",
       "      <td></td>\n",
       "      <td></td>\n",
       "      <td></td>\n",
       "    </tr>\n",
       "    <tr>\n",
       "      <th>2</th>\n",
       "      <td>a classy whore or more red velvet cupcakes</td>\n",
       "      <td>3</td>\n",
       "      <td></td>\n",
       "      <td>['xochitlsuckkks']</td>\n",
       "      <td></td>\n",
       "      <td></td>\n",
       "    </tr>\n",
       "    <tr>\n",
       "      <th>3</th>\n",
       "      <td>meh p thanks for the heads up but not too conc...</td>\n",
       "      <td>3</td>\n",
       "      <td></td>\n",
       "      <td>['jasongio']</td>\n",
       "      <td></td>\n",
       "      <td></td>\n",
       "    </tr>\n",
       "    <tr>\n",
       "      <th>4</th>\n",
       "      <td>this is an isis account pretending to be a kur...</td>\n",
       "      <td>3</td>\n",
       "      <td></td>\n",
       "      <td>['rudhoeenglish']</td>\n",
       "      <td></td>\n",
       "      <td></td>\n",
       "    </tr>\n",
       "    <tr>\n",
       "      <th>...</th>\n",
       "      <td>...</td>\n",
       "      <td>...</td>\n",
       "      <td>...</td>\n",
       "      <td>...</td>\n",
       "      <td>...</td>\n",
       "      <td>...</td>\n",
       "    </tr>\n",
       "    <tr>\n",
       "      <th>47687</th>\n",
       "      <td>black ppl arent expected to do anything depend...</td>\n",
       "      <td>1</td>\n",
       "      <td></td>\n",
       "      <td></td>\n",
       "      <td></td>\n",
       "      <td></td>\n",
       "    </tr>\n",
       "    <tr>\n",
       "      <th>47688</th>\n",
       "      <td>turner did not withhold his disappointment tur...</td>\n",
       "      <td>1</td>\n",
       "      <td></td>\n",
       "      <td></td>\n",
       "      <td></td>\n",
       "      <td></td>\n",
       "    </tr>\n",
       "    <tr>\n",
       "      <th>47689</th>\n",
       "      <td>i swear to god this dumb nigger bitch i have g...</td>\n",
       "      <td>1</td>\n",
       "      <td></td>\n",
       "      <td></td>\n",
       "      <td></td>\n",
       "      <td></td>\n",
       "    </tr>\n",
       "    <tr>\n",
       "      <th>47690</th>\n",
       "      <td>yea fuck you rt if youre a nigger fucking unfo...</td>\n",
       "      <td>1</td>\n",
       "      <td></td>\n",
       "      <td>['therealexel']</td>\n",
       "      <td></td>\n",
       "      <td></td>\n",
       "    </tr>\n",
       "    <tr>\n",
       "      <th>47691</th>\n",
       "      <td>bro u gotta chill rt dog fuck kp that dumb nig...</td>\n",
       "      <td>1</td>\n",
       "      <td></td>\n",
       "      <td>['chillshrammy']</td>\n",
       "      <td></td>\n",
       "      <td></td>\n",
       "    </tr>\n",
       "  </tbody>\n",
       "</table>\n",
       "<p>47692 rows × 6 columns</p>\n",
       "</div>"
      ],
      "text/plain": [
       "                                                   tweet  target  \\\n",
       "0              in other words your food was crapilicious       3   \n",
       "1                                 why is so white studio       3   \n",
       "2             a classy whore or more red velvet cupcakes       3   \n",
       "3      meh p thanks for the heads up but not too conc...       3   \n",
       "4      this is an isis account pretending to be a kur...       3   \n",
       "...                                                  ...     ...   \n",
       "47687  black ppl arent expected to do anything depend...       1   \n",
       "47688  turner did not withhold his disappointment tur...       1   \n",
       "47689  i swear to god this dumb nigger bitch i have g...       1   \n",
       "47690  yea fuck you rt if youre a nigger fucking unfo...       1   \n",
       "47691  bro u gotta chill rt dog fuck kp that dumb nig...       1   \n",
       "\n",
       "                                                 hashtag                name  \\\n",
       "0                                 ['katandandre', 'mkr']                       \n",
       "1      ['aussietv', 'mkr', 'theblock', 'imacelebritya...                       \n",
       "2                                                         ['xochitlsuckkks']   \n",
       "3                                                               ['jasongio']   \n",
       "4                                                          ['rudhoeenglish']   \n",
       "...                                                  ...                 ...   \n",
       "47687                                                                          \n",
       "47688                                                                          \n",
       "47689                                                                          \n",
       "47690                                                        ['therealexel']   \n",
       "47691                                                       ['chillshrammy']   \n",
       "\n",
       "      url emoji  \n",
       "0                \n",
       "1                \n",
       "2                \n",
       "3                \n",
       "4                \n",
       "...    ..   ...  \n",
       "47687            \n",
       "47688            \n",
       "47689            \n",
       "47690            \n",
       "47691            \n",
       "\n",
       "[47692 rows x 6 columns]"
      ]
     },
     "execution_count": 42,
     "metadata": {},
     "output_type": "execute_result"
    }
   ],
   "source": [
    "data"
   ]
  },
  {
   "cell_type": "code",
   "execution_count": 38,
   "id": "db9b2816",
   "metadata": {},
   "outputs": [],
   "source": [
    "LE = LabelEncoder()\n",
    "LE.fit(data['target'])\n",
    "data['target'] = LE.transform(data['target'])"
   ]
  },
  {
   "cell_type": "code",
   "execution_count": 39,
   "id": "8aedf49b",
   "metadata": {},
   "outputs": [
    {
     "data": {
      "text/plain": [
       "5    7998\n",
       "0    7992\n",
       "2    7973\n",
       "1    7961\n",
       "3    7945\n",
       "4    7823\n",
       "Name: target, dtype: int64"
      ]
     },
     "execution_count": 39,
     "metadata": {},
     "output_type": "execute_result"
    }
   ],
   "source": [
    "data['target'].value_counts()"
   ]
  },
  {
   "cell_type": "code",
   "execution_count": 40,
   "id": "2f46dabe",
   "metadata": {},
   "outputs": [
    {
     "name": "stdout",
     "output_type": "stream",
     "text": [
      "{'age': 0, 'ethnicity': 1, 'gender': 2, 'not_cyberbullying': 3, 'other_cyberbullying': 4, 'religion': 5}\n"
     ]
    }
   ],
   "source": [
    "LE_name_mapping = dict(zip(LE.classes_, LE.transform(LE.classes_)))\n",
    "print(LE_name_mapping)"
   ]
  },
  {
   "cell_type": "code",
   "execution_count": 41,
   "id": "9e63ea4c",
   "metadata": {},
   "outputs": [],
   "source": [
    "# encoded_data, mapping_index = pd.Series(data['target'].unique()).factorize()"
   ]
  },
  {
   "cell_type": "code",
   "execution_count": 44,
   "id": "ca1c1019",
   "metadata": {},
   "outputs": [
    {
     "data": {
      "text/html": [
       "<div>\n",
       "<style scoped>\n",
       "    .dataframe tbody tr th:only-of-type {\n",
       "        vertical-align: middle;\n",
       "    }\n",
       "\n",
       "    .dataframe tbody tr th {\n",
       "        vertical-align: top;\n",
       "    }\n",
       "\n",
       "    .dataframe thead th {\n",
       "        text-align: right;\n",
       "    }\n",
       "</style>\n",
       "<table border=\"1\" class=\"dataframe\">\n",
       "  <thead>\n",
       "    <tr style=\"text-align: right;\">\n",
       "      <th></th>\n",
       "      <th>tweet</th>\n",
       "      <th>target</th>\n",
       "      <th>hashtag</th>\n",
       "      <th>name</th>\n",
       "      <th>url</th>\n",
       "      <th>emoji</th>\n",
       "    </tr>\n",
       "  </thead>\n",
       "  <tbody>\n",
       "    <tr>\n",
       "      <th>0</th>\n",
       "      <td>words food crapilicious</td>\n",
       "      <td>3</td>\n",
       "      <td>['katandandre', 'mkr']</td>\n",
       "      <td></td>\n",
       "      <td></td>\n",
       "      <td></td>\n",
       "    </tr>\n",
       "    <tr>\n",
       "      <th>1</th>\n",
       "      <td>white studio</td>\n",
       "      <td>3</td>\n",
       "      <td>['aussietv', 'mkr', 'theblock', 'imacelebritya...</td>\n",
       "      <td></td>\n",
       "      <td></td>\n",
       "      <td></td>\n",
       "    </tr>\n",
       "    <tr>\n",
       "      <th>2</th>\n",
       "      <td>classy whore red velvet cupcakes</td>\n",
       "      <td>3</td>\n",
       "      <td></td>\n",
       "      <td>['xochitlsuckkks']</td>\n",
       "      <td></td>\n",
       "      <td></td>\n",
       "    </tr>\n",
       "    <tr>\n",
       "      <th>3</th>\n",
       "      <td>meh p thanks heads concerned another angry dud...</td>\n",
       "      <td>3</td>\n",
       "      <td></td>\n",
       "      <td>['jasongio']</td>\n",
       "      <td></td>\n",
       "      <td></td>\n",
       "    </tr>\n",
       "    <tr>\n",
       "      <th>4</th>\n",
       "      <td>isis account pretending kurdish account like i...</td>\n",
       "      <td>3</td>\n",
       "      <td></td>\n",
       "      <td>['rudhoeenglish']</td>\n",
       "      <td></td>\n",
       "      <td></td>\n",
       "    </tr>\n",
       "  </tbody>\n",
       "</table>\n",
       "</div>"
      ],
      "text/plain": [
       "                                               tweet  target  \\\n",
       "0                            words food crapilicious       3   \n",
       "1                                       white studio       3   \n",
       "2                   classy whore red velvet cupcakes       3   \n",
       "3  meh p thanks heads concerned another angry dud...       3   \n",
       "4  isis account pretending kurdish account like i...       3   \n",
       "\n",
       "                                             hashtag                name url  \\\n",
       "0                             ['katandandre', 'mkr']                           \n",
       "1  ['aussietv', 'mkr', 'theblock', 'imacelebritya...                           \n",
       "2                                                     ['xochitlsuckkks']       \n",
       "3                                                           ['jasongio']       \n",
       "4                                                      ['rudhoeenglish']       \n",
       "\n",
       "  emoji  \n",
       "0        \n",
       "1        \n",
       "2        \n",
       "3        \n",
       "4        "
      ]
     },
     "execution_count": 44,
     "metadata": {},
     "output_type": "execute_result"
    }
   ],
   "source": [
    "stop_words = stopwords.words('english')\n",
    "stop_words.extend(['rt', 'mkr', 'didn', 'bc', 'n', 'm', 'im', 'll', 'y', 've', 'u', 'ur', 'don', 't', 's','etc'])\n",
    "\n",
    "data['tweet'] = data['tweet'].apply(lambda x: ' '.join([word for word in x.split() if word not in (stop_words)]))\n",
    "data.head()"
   ]
  },
  {
   "cell_type": "code",
   "execution_count": 48,
   "id": "8bbc7514",
   "metadata": {},
   "outputs": [],
   "source": [
    "for col in ['hashtag','name','url','emoji']:\n",
    "    data[col] = data[col].apply(lambda x:len(x))"
   ]
  },
  {
   "cell_type": "code",
   "execution_count": 50,
   "id": "bccbd522",
   "metadata": {},
   "outputs": [
    {
     "data": {
      "text/html": [
       "<div>\n",
       "<style scoped>\n",
       "    .dataframe tbody tr th:only-of-type {\n",
       "        vertical-align: middle;\n",
       "    }\n",
       "\n",
       "    .dataframe tbody tr th {\n",
       "        vertical-align: top;\n",
       "    }\n",
       "\n",
       "    .dataframe thead th {\n",
       "        text-align: right;\n",
       "    }\n",
       "</style>\n",
       "<table border=\"1\" class=\"dataframe\">\n",
       "  <thead>\n",
       "    <tr style=\"text-align: right;\">\n",
       "      <th></th>\n",
       "      <th>tweet</th>\n",
       "      <th>target</th>\n",
       "      <th>hashtag</th>\n",
       "      <th>name</th>\n",
       "      <th>url</th>\n",
       "      <th>emoji</th>\n",
       "    </tr>\n",
       "  </thead>\n",
       "  <tbody>\n",
       "    <tr>\n",
       "      <th>0</th>\n",
       "      <td>words food crapilicious</td>\n",
       "      <td>3</td>\n",
       "      <td>22</td>\n",
       "      <td>0</td>\n",
       "      <td>0</td>\n",
       "      <td>0</td>\n",
       "    </tr>\n",
       "    <tr>\n",
       "      <th>1</th>\n",
       "      <td>white studio</td>\n",
       "      <td>3</td>\n",
       "      <td>119</td>\n",
       "      <td>0</td>\n",
       "      <td>0</td>\n",
       "      <td>0</td>\n",
       "    </tr>\n",
       "    <tr>\n",
       "      <th>2</th>\n",
       "      <td>classy whore red velvet cupcakes</td>\n",
       "      <td>3</td>\n",
       "      <td>0</td>\n",
       "      <td>18</td>\n",
       "      <td>0</td>\n",
       "      <td>0</td>\n",
       "    </tr>\n",
       "    <tr>\n",
       "      <th>3</th>\n",
       "      <td>meh p thanks heads concerned another angry dud...</td>\n",
       "      <td>3</td>\n",
       "      <td>0</td>\n",
       "      <td>12</td>\n",
       "      <td>0</td>\n",
       "      <td>0</td>\n",
       "    </tr>\n",
       "    <tr>\n",
       "      <th>4</th>\n",
       "      <td>isis account pretending kurdish account like i...</td>\n",
       "      <td>3</td>\n",
       "      <td>0</td>\n",
       "      <td>17</td>\n",
       "      <td>0</td>\n",
       "      <td>0</td>\n",
       "    </tr>\n",
       "    <tr>\n",
       "      <th>...</th>\n",
       "      <td>...</td>\n",
       "      <td>...</td>\n",
       "      <td>...</td>\n",
       "      <td>...</td>\n",
       "      <td>...</td>\n",
       "      <td>...</td>\n",
       "    </tr>\n",
       "    <tr>\n",
       "      <th>47687</th>\n",
       "      <td>black ppl arent expected anything depended any...</td>\n",
       "      <td>1</td>\n",
       "      <td>0</td>\n",
       "      <td>0</td>\n",
       "      <td>0</td>\n",
       "      <td>0</td>\n",
       "    </tr>\n",
       "    <tr>\n",
       "      <th>47688</th>\n",
       "      <td>turner withhold disappointment turner called c...</td>\n",
       "      <td>1</td>\n",
       "      <td>0</td>\n",
       "      <td>0</td>\n",
       "      <td>0</td>\n",
       "      <td>0</td>\n",
       "    </tr>\n",
       "    <tr>\n",
       "      <th>47689</th>\n",
       "      <td>swear god dumb nigger bitch got bleach hair re...</td>\n",
       "      <td>1</td>\n",
       "      <td>0</td>\n",
       "      <td>0</td>\n",
       "      <td>0</td>\n",
       "      <td>0</td>\n",
       "    </tr>\n",
       "    <tr>\n",
       "      <th>47690</th>\n",
       "      <td>yea fuck youre nigger fucking unfollow fucking...</td>\n",
       "      <td>1</td>\n",
       "      <td>0</td>\n",
       "      <td>15</td>\n",
       "      <td>0</td>\n",
       "      <td>0</td>\n",
       "    </tr>\n",
       "    <tr>\n",
       "      <th>47691</th>\n",
       "      <td>bro gotta chill dog fuck kp dumb nigger bitch ...</td>\n",
       "      <td>1</td>\n",
       "      <td>0</td>\n",
       "      <td>16</td>\n",
       "      <td>0</td>\n",
       "      <td>0</td>\n",
       "    </tr>\n",
       "  </tbody>\n",
       "</table>\n",
       "<p>47692 rows × 6 columns</p>\n",
       "</div>"
      ],
      "text/plain": [
       "                                                   tweet  target  hashtag  \\\n",
       "0                                words food crapilicious       3       22   \n",
       "1                                           white studio       3      119   \n",
       "2                       classy whore red velvet cupcakes       3        0   \n",
       "3      meh p thanks heads concerned another angry dud...       3        0   \n",
       "4      isis account pretending kurdish account like i...       3        0   \n",
       "...                                                  ...     ...      ...   \n",
       "47687  black ppl arent expected anything depended any...       1        0   \n",
       "47688  turner withhold disappointment turner called c...       1        0   \n",
       "47689  swear god dumb nigger bitch got bleach hair re...       1        0   \n",
       "47690  yea fuck youre nigger fucking unfollow fucking...       1        0   \n",
       "47691  bro gotta chill dog fuck kp dumb nigger bitch ...       1        0   \n",
       "\n",
       "       name  url  emoji  \n",
       "0         0    0      0  \n",
       "1         0    0      0  \n",
       "2        18    0      0  \n",
       "3        12    0      0  \n",
       "4        17    0      0  \n",
       "...     ...  ...    ...  \n",
       "47687     0    0      0  \n",
       "47688     0    0      0  \n",
       "47689     0    0      0  \n",
       "47690    15    0      0  \n",
       "47691    16    0      0  \n",
       "\n",
       "[47692 rows x 6 columns]"
      ]
     },
     "execution_count": 50,
     "metadata": {},
     "output_type": "execute_result"
    }
   ],
   "source": [
    "data"
   ]
  },
  {
   "cell_type": "code",
   "execution_count": 51,
   "id": "37916fab",
   "metadata": {},
   "outputs": [],
   "source": [
    "from sklearn.feature_extraction.text import CountVectorizer\n",
    "cv = CountVectorizer(max_features = 1500,ngram_range=(1,3))\n",
    "X = cv.fit_transform(data['tweet']).toarray()\n",
    "y = data['target'].values"
   ]
  },
  {
   "cell_type": "raw",
   "id": "9f9f694b",
   "metadata": {},
   "source": [
    "extra = data[['hashtag','name','url','emoji']].values"
   ]
  },
  {
   "cell_type": "code",
   "execution_count": 56,
   "id": "519abae4",
   "metadata": {},
   "outputs": [],
   "source": [
    "extra = np.asarray(extra)"
   ]
  },
  {
   "cell_type": "code",
   "execution_count": 58,
   "id": "be1b79fa",
   "metadata": {},
   "outputs": [
    {
     "data": {
      "text/plain": [
       "(47692, 1500)"
      ]
     },
     "execution_count": 58,
     "metadata": {},
     "output_type": "execute_result"
    }
   ],
   "source": [
    "X.shape"
   ]
  },
  {
   "cell_type": "code",
   "execution_count": 59,
   "id": "d7319dbd",
   "metadata": {},
   "outputs": [],
   "source": [
    "X = np.hstack((X,extra))"
   ]
  },
  {
   "cell_type": "code",
   "execution_count": 62,
   "id": "c9a1e47d",
   "metadata": {},
   "outputs": [],
   "source": [
    "from sklearn.model_selection import train_test_split\n",
    "X_train, X_test, y_train, y_test = train_test_split(X, y, test_size = 0.20, random_state = 0)"
   ]
  },
  {
   "cell_type": "code",
   "execution_count": 69,
   "id": "8938f8d9",
   "metadata": {},
   "outputs": [],
   "source": [
    "from sklearn.tree import DecisionTreeClassifier\n",
    "from sklearn.metrics import confusion_matrix,f1_score"
   ]
  },
  {
   "cell_type": "code",
   "execution_count": 68,
   "id": "60e347e6",
   "metadata": {},
   "outputs": [
    {
     "ename": "NameError",
     "evalue": "name 'f1_score' is not defined",
     "output_type": "error",
     "traceback": [
      "\u001b[1;31m---------------------------------------------------------------------------\u001b[0m",
      "\u001b[1;31mNameError\u001b[0m                                 Traceback (most recent call last)",
      "\u001b[1;32m<ipython-input-68-da2bbff43f8b>\u001b[0m in \u001b[0;36m<module>\u001b[1;34m\u001b[0m\n\u001b[0;32m      2\u001b[0m \u001b[0mclf\u001b[0m\u001b[1;33m.\u001b[0m\u001b[0mfit\u001b[0m\u001b[1;33m(\u001b[0m\u001b[0mX_train\u001b[0m\u001b[1;33m,\u001b[0m\u001b[0my_train\u001b[0m\u001b[1;33m)\u001b[0m\u001b[1;33m\u001b[0m\u001b[1;33m\u001b[0m\u001b[0m\n\u001b[0;32m      3\u001b[0m \u001b[0mpred\u001b[0m\u001b[1;33m=\u001b[0m \u001b[0mclf\u001b[0m\u001b[1;33m.\u001b[0m\u001b[0mpredict\u001b[0m\u001b[1;33m(\u001b[0m\u001b[0mX_test\u001b[0m\u001b[1;33m)\u001b[0m\u001b[1;33m\u001b[0m\u001b[1;33m\u001b[0m\u001b[0m\n\u001b[1;32m----> 4\u001b[1;33m \u001b[0macc\u001b[0m \u001b[1;33m=\u001b[0m \u001b[0mf1_score\u001b[0m\u001b[1;33m(\u001b[0m\u001b[0mpred\u001b[0m\u001b[1;33m,\u001b[0m\u001b[0my_test\u001b[0m\u001b[1;33m)\u001b[0m\u001b[1;33m\u001b[0m\u001b[1;33m\u001b[0m\u001b[0m\n\u001b[0m\u001b[0;32m      5\u001b[0m \u001b[0macc\u001b[0m\u001b[1;33m\u001b[0m\u001b[1;33m\u001b[0m\u001b[0m\n",
      "\u001b[1;31mNameError\u001b[0m: name 'f1_score' is not defined"
     ]
    }
   ],
   "source": [
    "clf = DecisionTreeClassifier()\n",
    "clf.fit(X_train,y_train)\n",
    "pred= clf.predict(X_test)"
   ]
  },
  {
   "cell_type": "code",
   "execution_count": 72,
   "id": "52ed1435",
   "metadata": {},
   "outputs": [
    {
     "data": {
      "text/plain": [
       "0.7672712024321207"
      ]
     },
     "execution_count": 72,
     "metadata": {},
     "output_type": "execute_result"
    }
   ],
   "source": [
    "acc = f1_score(pred,y_test,average='micro')\n",
    "acc"
   ]
  },
  {
   "cell_type": "code",
   "execution_count": null,
   "id": "145e304c",
   "metadata": {},
   "outputs": [],
   "source": []
  }
 ],
 "metadata": {
  "kernelspec": {
   "display_name": "Python 3",
   "language": "python",
   "name": "python3"
  },
  "language_info": {
   "codemirror_mode": {
    "name": "ipython",
    "version": 3
   },
   "file_extension": ".py",
   "mimetype": "text/x-python",
   "name": "python",
   "nbconvert_exporter": "python",
   "pygments_lexer": "ipython3",
   "version": "3.8.8"
  }
 },
 "nbformat": 4,
 "nbformat_minor": 5
}
