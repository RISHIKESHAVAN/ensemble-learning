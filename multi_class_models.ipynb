{
 "cells": [
  {
   "cell_type": "code",
   "execution_count": 1,
   "id": "163cfac4",
   "metadata": {},
   "outputs": [
    {
     "name": "stderr",
     "output_type": "stream",
     "text": [
      "[nltk_data] Downloading package punkt to\n",
      "[nltk_data]     C:\\Users\\rkroc\\AppData\\Roaming\\nltk_data...\n",
      "[nltk_data]   Package punkt is already up-to-date!\n",
      "[nltk_data] Downloading package stopwords to\n",
      "[nltk_data]     C:\\Users\\rkroc\\AppData\\Roaming\\nltk_data...\n",
      "[nltk_data]   Package stopwords is already up-to-date!\n"
     ]
    }
   ],
   "source": [
    "import numpy as np\n",
    "import pandas as pd\n",
    "import regex as re\n",
    "from matplotlib import pyplot as plt\n",
    "import seaborn as sns\n",
    "from sklearn.model_selection import GridSearchCV\n",
    "import nltk\n",
    "nltk.download('punkt')\n",
    "nltk.download('stopwords')\n",
    "from sklearn.feature_extraction.text import TfidfVectorizer\n",
    "from sklearn.feature_extraction.text import CountVectorizer\n",
    "from nltk.corpus import stopwords\n",
    "from nltk.tokenize import word_tokenize\n",
    "from imblearn.ensemble import BalancedRandomForestClassifier\n",
    "from sklearn.preprocessing import LabelEncoder\n",
    "from sklearn.preprocessing import StandardScaler\n",
    "from sklearn.inspection import permutation_importance\n",
    "from sklearn.ensemble import RandomForestClassifier\n",
    "from sklearn.preprocessing import OneHotEncoder\n",
    "from sklearn.neighbors import KNeighborsClassifier\n",
    "from sklearn.metrics import confusion_matrix\n",
    "from sklearn.model_selection import RepeatedStratifiedKFold\n",
    "from sklearn.linear_model import LogisticRegression\n",
    "from sklearn.metrics import classification_report\n",
    "from sklearn.model_selection import StratifiedKFold\n",
    "from sklearn.model_selection import cross_val_score\n",
    "from sklearn.model_selection import train_test_split\n",
    "from sklearn.metrics import precision_recall_fscore_support\n",
    "from sklearn.utils import class_weight\n",
    "import xgboost as xgb\n",
    "from xgboost import XGBClassifier\n",
    "from xgboost import plot_importance\n",
    "from sklearn.metrics import accuracy_score\n",
    "from sklearn.metrics import f1_score\n",
    "from sklearn.svm import SVC\n",
    "\n",
    "# import packages for hyperparameters tuning\n",
    "from hyperopt import STATUS_OK, Trials, fmin, hp, tpe"
   ]
  },
  {
   "cell_type": "code",
   "execution_count": 2,
   "id": "4002b0ae",
   "metadata": {},
   "outputs": [],
   "source": [
    "data = pd.read_csv('clean_data.csv')"
   ]
  },
  {
   "cell_type": "code",
   "execution_count": 3,
   "id": "2fefa21c",
   "metadata": {},
   "outputs": [
    {
     "data": {
      "text/plain": [
       "tweet        134\n",
       "target         0\n",
       "hashtag    40728\n",
       "name       29594\n",
       "url        43391\n",
       "emoji      47252\n",
       "dtype: int64"
      ]
     },
     "execution_count": 3,
     "metadata": {},
     "output_type": "execute_result"
    }
   ],
   "source": [
    "data.isnull().sum() # number of nulls in the data"
   ]
  },
  {
   "cell_type": "code",
   "execution_count": 4,
   "id": "7acf1874",
   "metadata": {},
   "outputs": [],
   "source": [
    "data = data.fillna('') # filling the null value with an empty text"
   ]
  },
  {
   "cell_type": "code",
   "execution_count": 5,
   "id": "a25ede24",
   "metadata": {},
   "outputs": [
    {
     "data": {
      "text/plain": [
       "religion               16.770108\n",
       "age                    16.757527\n",
       "gender                 16.717689\n",
       "ethnicity              16.692527\n",
       "not_cyberbullying      16.658978\n",
       "other_cyberbullying    16.403170\n",
       "Name: target, dtype: float64"
      ]
     },
     "execution_count": 5,
     "metadata": {},
     "output_type": "execute_result"
    }
   ],
   "source": [
    "data['target'].value_counts(normalize=1)*100 # data looks moreover balanced"
   ]
  },
  {
   "cell_type": "code",
   "execution_count": 6,
   "id": "bbc238ed",
   "metadata": {},
   "outputs": [
    {
     "name": "stdout",
     "output_type": "stream",
     "text": [
      "{'age': 0, 'ethnicity': 1, 'gender': 2, 'not_cyberbullying': 3, 'other_cyberbullying': 4, 'religion': 5}\n"
     ]
    }
   ],
   "source": [
    "#converting the target column into numerical form using one hot encoding\n",
    "LE = LabelEncoder()\n",
    "LE.fit(data['target'])\n",
    "data['target'] = LE.transform(data['target'])\n",
    "LE_name_mapping = dict(zip(LE.classes_, LE.transform(LE.classes_)))\n",
    "print(LE_name_mapping)"
   ]
  },
  {
   "cell_type": "code",
   "execution_count": 7,
   "id": "d6ee19e1",
   "metadata": {},
   "outputs": [
    {
     "data": {
      "text/plain": [
       "5    16.770108\n",
       "0    16.757527\n",
       "2    16.717689\n",
       "1    16.692527\n",
       "3    16.658978\n",
       "4    16.403170\n",
       "Name: target, dtype: float64"
      ]
     },
     "execution_count": 7,
     "metadata": {},
     "output_type": "execute_result"
    }
   ],
   "source": [
    "data['target'].value_counts(normalize=1)*100"
   ]
  },
  {
   "cell_type": "code",
   "execution_count": 8,
   "id": "fc1c7623",
   "metadata": {},
   "outputs": [
    {
     "data": {
      "text/html": [
       "<div>\n",
       "<style scoped>\n",
       "    .dataframe tbody tr th:only-of-type {\n",
       "        vertical-align: middle;\n",
       "    }\n",
       "\n",
       "    .dataframe tbody tr th {\n",
       "        vertical-align: top;\n",
       "    }\n",
       "\n",
       "    .dataframe thead th {\n",
       "        text-align: right;\n",
       "    }\n",
       "</style>\n",
       "<table border=\"1\" class=\"dataframe\">\n",
       "  <thead>\n",
       "    <tr style=\"text-align: right;\">\n",
       "      <th></th>\n",
       "      <th>tweet</th>\n",
       "      <th>target</th>\n",
       "      <th>hashtag</th>\n",
       "      <th>name</th>\n",
       "      <th>url</th>\n",
       "      <th>emoji</th>\n",
       "      <th>hashtag_len</th>\n",
       "      <th>name_len</th>\n",
       "      <th>url_len</th>\n",
       "      <th>emoji_len</th>\n",
       "    </tr>\n",
       "  </thead>\n",
       "  <tbody>\n",
       "    <tr>\n",
       "      <th>0</th>\n",
       "      <td>in other words your food was crapilicious</td>\n",
       "      <td>3</td>\n",
       "      <td>['katandandre', 'mkr']</td>\n",
       "      <td></td>\n",
       "      <td></td>\n",
       "      <td></td>\n",
       "      <td>22</td>\n",
       "      <td>0</td>\n",
       "      <td>0</td>\n",
       "      <td>0</td>\n",
       "    </tr>\n",
       "    <tr>\n",
       "      <th>1</th>\n",
       "      <td>why is so white studio</td>\n",
       "      <td>3</td>\n",
       "      <td>['aussietv', 'mkr', 'theblock', 'imacelebritya...</td>\n",
       "      <td></td>\n",
       "      <td></td>\n",
       "      <td></td>\n",
       "      <td>119</td>\n",
       "      <td>0</td>\n",
       "      <td>0</td>\n",
       "      <td>0</td>\n",
       "    </tr>\n",
       "    <tr>\n",
       "      <th>2</th>\n",
       "      <td>a classy whore or more red velvet cupcakes</td>\n",
       "      <td>3</td>\n",
       "      <td></td>\n",
       "      <td>['xochitlsuckkks']</td>\n",
       "      <td></td>\n",
       "      <td></td>\n",
       "      <td>0</td>\n",
       "      <td>18</td>\n",
       "      <td>0</td>\n",
       "      <td>0</td>\n",
       "    </tr>\n",
       "    <tr>\n",
       "      <th>3</th>\n",
       "      <td>meh p thanks for the heads up but not too conc...</td>\n",
       "      <td>3</td>\n",
       "      <td></td>\n",
       "      <td>['jasongio']</td>\n",
       "      <td></td>\n",
       "      <td></td>\n",
       "      <td>0</td>\n",
       "      <td>12</td>\n",
       "      <td>0</td>\n",
       "      <td>0</td>\n",
       "    </tr>\n",
       "    <tr>\n",
       "      <th>4</th>\n",
       "      <td>this is an isis account pretending to be a kur...</td>\n",
       "      <td>3</td>\n",
       "      <td></td>\n",
       "      <td>['rudhoeenglish']</td>\n",
       "      <td></td>\n",
       "      <td></td>\n",
       "      <td>0</td>\n",
       "      <td>17</td>\n",
       "      <td>0</td>\n",
       "      <td>0</td>\n",
       "    </tr>\n",
       "    <tr>\n",
       "      <th>...</th>\n",
       "      <td>...</td>\n",
       "      <td>...</td>\n",
       "      <td>...</td>\n",
       "      <td>...</td>\n",
       "      <td>...</td>\n",
       "      <td>...</td>\n",
       "      <td>...</td>\n",
       "      <td>...</td>\n",
       "      <td>...</td>\n",
       "      <td>...</td>\n",
       "    </tr>\n",
       "    <tr>\n",
       "      <th>47687</th>\n",
       "      <td>black ppl arent expected to do anything depend...</td>\n",
       "      <td>1</td>\n",
       "      <td></td>\n",
       "      <td></td>\n",
       "      <td></td>\n",
       "      <td></td>\n",
       "      <td>0</td>\n",
       "      <td>0</td>\n",
       "      <td>0</td>\n",
       "      <td>0</td>\n",
       "    </tr>\n",
       "    <tr>\n",
       "      <th>47688</th>\n",
       "      <td>turner did not withhold his disappointment tur...</td>\n",
       "      <td>1</td>\n",
       "      <td></td>\n",
       "      <td></td>\n",
       "      <td></td>\n",
       "      <td></td>\n",
       "      <td>0</td>\n",
       "      <td>0</td>\n",
       "      <td>0</td>\n",
       "      <td>0</td>\n",
       "    </tr>\n",
       "    <tr>\n",
       "      <th>47689</th>\n",
       "      <td>i swear to god this dumb nigger bitch i have g...</td>\n",
       "      <td>1</td>\n",
       "      <td></td>\n",
       "      <td></td>\n",
       "      <td></td>\n",
       "      <td></td>\n",
       "      <td>0</td>\n",
       "      <td>0</td>\n",
       "      <td>0</td>\n",
       "      <td>0</td>\n",
       "    </tr>\n",
       "    <tr>\n",
       "      <th>47690</th>\n",
       "      <td>yea fuck you rt if youre a nigger fucking unfo...</td>\n",
       "      <td>1</td>\n",
       "      <td></td>\n",
       "      <td>['therealexel']</td>\n",
       "      <td></td>\n",
       "      <td></td>\n",
       "      <td>0</td>\n",
       "      <td>15</td>\n",
       "      <td>0</td>\n",
       "      <td>0</td>\n",
       "    </tr>\n",
       "    <tr>\n",
       "      <th>47691</th>\n",
       "      <td>bro u gotta chill rt dog fuck kp that dumb nig...</td>\n",
       "      <td>1</td>\n",
       "      <td></td>\n",
       "      <td>['chillshrammy']</td>\n",
       "      <td></td>\n",
       "      <td></td>\n",
       "      <td>0</td>\n",
       "      <td>16</td>\n",
       "      <td>0</td>\n",
       "      <td>0</td>\n",
       "    </tr>\n",
       "  </tbody>\n",
       "</table>\n",
       "<p>47692 rows × 10 columns</p>\n",
       "</div>"
      ],
      "text/plain": [
       "                                                   tweet  target  \\\n",
       "0              in other words your food was crapilicious       3   \n",
       "1                                 why is so white studio       3   \n",
       "2             a classy whore or more red velvet cupcakes       3   \n",
       "3      meh p thanks for the heads up but not too conc...       3   \n",
       "4      this is an isis account pretending to be a kur...       3   \n",
       "...                                                  ...     ...   \n",
       "47687  black ppl arent expected to do anything depend...       1   \n",
       "47688  turner did not withhold his disappointment tur...       1   \n",
       "47689  i swear to god this dumb nigger bitch i have g...       1   \n",
       "47690  yea fuck you rt if youre a nigger fucking unfo...       1   \n",
       "47691  bro u gotta chill rt dog fuck kp that dumb nig...       1   \n",
       "\n",
       "                                                 hashtag                name  \\\n",
       "0                                 ['katandandre', 'mkr']                       \n",
       "1      ['aussietv', 'mkr', 'theblock', 'imacelebritya...                       \n",
       "2                                                         ['xochitlsuckkks']   \n",
       "3                                                               ['jasongio']   \n",
       "4                                                          ['rudhoeenglish']   \n",
       "...                                                  ...                 ...   \n",
       "47687                                                                          \n",
       "47688                                                                          \n",
       "47689                                                                          \n",
       "47690                                                        ['therealexel']   \n",
       "47691                                                       ['chillshrammy']   \n",
       "\n",
       "      url emoji  hashtag_len  name_len  url_len  emoji_len  \n",
       "0                         22         0        0          0  \n",
       "1                        119         0        0          0  \n",
       "2                          0        18        0          0  \n",
       "3                          0        12        0          0  \n",
       "4                          0        17        0          0  \n",
       "...    ..   ...          ...       ...      ...        ...  \n",
       "47687                      0         0        0          0  \n",
       "47688                      0         0        0          0  \n",
       "47689                      0         0        0          0  \n",
       "47690                      0        15        0          0  \n",
       "47691                      0        16        0          0  \n",
       "\n",
       "[47692 rows x 10 columns]"
      ]
     },
     "execution_count": 8,
     "metadata": {},
     "output_type": "execute_result"
    }
   ],
   "source": [
    "# getting the length for each of the hashtag name url and emoji column\n",
    "for col in ['hashtag','name','url','emoji']:\n",
    "    data[col+\"_len\"] = data[col].apply(lambda x:len(x))\n",
    "data"
   ]
  },
  {
   "cell_type": "code",
   "execution_count": 9,
   "id": "74968291",
   "metadata": {},
   "outputs": [
    {
     "name": "stderr",
     "output_type": "stream",
     "text": [
      "<ipython-input-9-b9a156eee389>:5: FutureWarning: The default value of regex will change from True to False in a future version. In addition, single character regular expressions will*not* be treated as literal strings when regex=True.\n",
      "  data[col] = data[col].str.replace(\"[\",'')\n",
      "<ipython-input-9-b9a156eee389>:6: FutureWarning: The default value of regex will change from True to False in a future version. In addition, single character regular expressions will*not* be treated as literal strings when regex=True.\n",
      "  data[col] = data[col].str.replace(\"]\",'')\n"
     ]
    }
   ],
   "source": [
    "#adding some preprocessing to clean some faetures(hashtag,name,url,emoji)\n",
    "for col in ['hashtag','name','url','emoji']:\n",
    "    data[col] = data[col].apply(lambda x:re.sub(r\"[,']\",'',x))\n",
    "for col in ['hashtag','name','url','emoji']:\n",
    "    data[col] = data[col].str.replace(\"[\",'')\n",
    "    data[col] = data[col].str.replace(\"]\",'')\n",
    "    if col =='emoji':\n",
    "        data[col] = data[col].str.replace(\"_\",' ')\n",
    "        "
   ]
  },
  {
   "cell_type": "code",
   "execution_count": 10,
   "id": "971e1712",
   "metadata": {},
   "outputs": [
    {
     "data": {
      "text/html": [
       "<div>\n",
       "<style scoped>\n",
       "    .dataframe tbody tr th:only-of-type {\n",
       "        vertical-align: middle;\n",
       "    }\n",
       "\n",
       "    .dataframe tbody tr th {\n",
       "        vertical-align: top;\n",
       "    }\n",
       "\n",
       "    .dataframe thead th {\n",
       "        text-align: right;\n",
       "    }\n",
       "</style>\n",
       "<table border=\"1\" class=\"dataframe\">\n",
       "  <thead>\n",
       "    <tr style=\"text-align: right;\">\n",
       "      <th></th>\n",
       "      <th>tweet</th>\n",
       "      <th>target</th>\n",
       "      <th>hashtag</th>\n",
       "      <th>name</th>\n",
       "      <th>url</th>\n",
       "      <th>emoji</th>\n",
       "      <th>hashtag_len</th>\n",
       "      <th>name_len</th>\n",
       "      <th>url_len</th>\n",
       "      <th>emoji_len</th>\n",
       "    </tr>\n",
       "  </thead>\n",
       "  <tbody>\n",
       "    <tr>\n",
       "      <th>0</th>\n",
       "      <td>in other words your food was crapilicious</td>\n",
       "      <td>3</td>\n",
       "      <td>katandandre mkr</td>\n",
       "      <td></td>\n",
       "      <td></td>\n",
       "      <td></td>\n",
       "      <td>22</td>\n",
       "      <td>0</td>\n",
       "      <td>0</td>\n",
       "      <td>0</td>\n",
       "    </tr>\n",
       "    <tr>\n",
       "      <th>1</th>\n",
       "      <td>why is so white studio</td>\n",
       "      <td>3</td>\n",
       "      <td>aussietv mkr theblock imacelebrityau today sun...</td>\n",
       "      <td></td>\n",
       "      <td></td>\n",
       "      <td></td>\n",
       "      <td>119</td>\n",
       "      <td>0</td>\n",
       "      <td>0</td>\n",
       "      <td>0</td>\n",
       "    </tr>\n",
       "    <tr>\n",
       "      <th>2</th>\n",
       "      <td>a classy whore or more red velvet cupcakes</td>\n",
       "      <td>3</td>\n",
       "      <td></td>\n",
       "      <td>xochitlsuckkks</td>\n",
       "      <td></td>\n",
       "      <td></td>\n",
       "      <td>0</td>\n",
       "      <td>18</td>\n",
       "      <td>0</td>\n",
       "      <td>0</td>\n",
       "    </tr>\n",
       "    <tr>\n",
       "      <th>3</th>\n",
       "      <td>meh p thanks for the heads up but not too conc...</td>\n",
       "      <td>3</td>\n",
       "      <td></td>\n",
       "      <td>jasongio</td>\n",
       "      <td></td>\n",
       "      <td></td>\n",
       "      <td>0</td>\n",
       "      <td>12</td>\n",
       "      <td>0</td>\n",
       "      <td>0</td>\n",
       "    </tr>\n",
       "    <tr>\n",
       "      <th>4</th>\n",
       "      <td>this is an isis account pretending to be a kur...</td>\n",
       "      <td>3</td>\n",
       "      <td></td>\n",
       "      <td>rudhoeenglish</td>\n",
       "      <td></td>\n",
       "      <td></td>\n",
       "      <td>0</td>\n",
       "      <td>17</td>\n",
       "      <td>0</td>\n",
       "      <td>0</td>\n",
       "    </tr>\n",
       "    <tr>\n",
       "      <th>...</th>\n",
       "      <td>...</td>\n",
       "      <td>...</td>\n",
       "      <td>...</td>\n",
       "      <td>...</td>\n",
       "      <td>...</td>\n",
       "      <td>...</td>\n",
       "      <td>...</td>\n",
       "      <td>...</td>\n",
       "      <td>...</td>\n",
       "      <td>...</td>\n",
       "    </tr>\n",
       "    <tr>\n",
       "      <th>47687</th>\n",
       "      <td>black ppl arent expected to do anything depend...</td>\n",
       "      <td>1</td>\n",
       "      <td></td>\n",
       "      <td></td>\n",
       "      <td></td>\n",
       "      <td></td>\n",
       "      <td>0</td>\n",
       "      <td>0</td>\n",
       "      <td>0</td>\n",
       "      <td>0</td>\n",
       "    </tr>\n",
       "    <tr>\n",
       "      <th>47688</th>\n",
       "      <td>turner did not withhold his disappointment tur...</td>\n",
       "      <td>1</td>\n",
       "      <td></td>\n",
       "      <td></td>\n",
       "      <td></td>\n",
       "      <td></td>\n",
       "      <td>0</td>\n",
       "      <td>0</td>\n",
       "      <td>0</td>\n",
       "      <td>0</td>\n",
       "    </tr>\n",
       "    <tr>\n",
       "      <th>47689</th>\n",
       "      <td>i swear to god this dumb nigger bitch i have g...</td>\n",
       "      <td>1</td>\n",
       "      <td></td>\n",
       "      <td></td>\n",
       "      <td></td>\n",
       "      <td></td>\n",
       "      <td>0</td>\n",
       "      <td>0</td>\n",
       "      <td>0</td>\n",
       "      <td>0</td>\n",
       "    </tr>\n",
       "    <tr>\n",
       "      <th>47690</th>\n",
       "      <td>yea fuck you rt if youre a nigger fucking unfo...</td>\n",
       "      <td>1</td>\n",
       "      <td></td>\n",
       "      <td>therealexel</td>\n",
       "      <td></td>\n",
       "      <td></td>\n",
       "      <td>0</td>\n",
       "      <td>15</td>\n",
       "      <td>0</td>\n",
       "      <td>0</td>\n",
       "    </tr>\n",
       "    <tr>\n",
       "      <th>47691</th>\n",
       "      <td>bro u gotta chill rt dog fuck kp that dumb nig...</td>\n",
       "      <td>1</td>\n",
       "      <td></td>\n",
       "      <td>chillshrammy</td>\n",
       "      <td></td>\n",
       "      <td></td>\n",
       "      <td>0</td>\n",
       "      <td>16</td>\n",
       "      <td>0</td>\n",
       "      <td>0</td>\n",
       "    </tr>\n",
       "  </tbody>\n",
       "</table>\n",
       "<p>47692 rows × 10 columns</p>\n",
       "</div>"
      ],
      "text/plain": [
       "                                                   tweet  target  \\\n",
       "0              in other words your food was crapilicious       3   \n",
       "1                                 why is so white studio       3   \n",
       "2             a classy whore or more red velvet cupcakes       3   \n",
       "3      meh p thanks for the heads up but not too conc...       3   \n",
       "4      this is an isis account pretending to be a kur...       3   \n",
       "...                                                  ...     ...   \n",
       "47687  black ppl arent expected to do anything depend...       1   \n",
       "47688  turner did not withhold his disappointment tur...       1   \n",
       "47689  i swear to god this dumb nigger bitch i have g...       1   \n",
       "47690  yea fuck you rt if youre a nigger fucking unfo...       1   \n",
       "47691  bro u gotta chill rt dog fuck kp that dumb nig...       1   \n",
       "\n",
       "                                                 hashtag            name url  \\\n",
       "0                                        katandandre mkr                       \n",
       "1      aussietv mkr theblock imacelebrityau today sun...                       \n",
       "2                                                         xochitlsuckkks       \n",
       "3                                                               jasongio       \n",
       "4                                                          rudhoeenglish       \n",
       "...                                                  ...             ...  ..   \n",
       "47687                                                                          \n",
       "47688                                                                          \n",
       "47689                                                                          \n",
       "47690                                                        therealexel       \n",
       "47691                                                       chillshrammy       \n",
       "\n",
       "      emoji  hashtag_len  name_len  url_len  emoji_len  \n",
       "0                     22         0        0          0  \n",
       "1                    119         0        0          0  \n",
       "2                      0        18        0          0  \n",
       "3                      0        12        0          0  \n",
       "4                      0        17        0          0  \n",
       "...     ...          ...       ...      ...        ...  \n",
       "47687                  0         0        0          0  \n",
       "47688                  0         0        0          0  \n",
       "47689                  0         0        0          0  \n",
       "47690                  0        15        0          0  \n",
       "47691                  0        16        0          0  \n",
       "\n",
       "[47692 rows x 10 columns]"
      ]
     },
     "execution_count": 10,
     "metadata": {},
     "output_type": "execute_result"
    }
   ],
   "source": [
    "data"
   ]
  },
  {
   "cell_type": "code",
   "execution_count": 11,
   "id": "06728217",
   "metadata": {},
   "outputs": [
    {
     "data": {
      "text/plain": [
       "Index(['tweet', 'hashtag', 'name', 'url', 'emoji'], dtype='object')"
      ]
     },
     "execution_count": 11,
     "metadata": {},
     "output_type": "execute_result"
    }
   ],
   "source": [
    "text_col = data.loc[:,data.dtypes=='object'].columns\n",
    "text_col"
   ]
  },
  {
   "cell_type": "markdown",
   "id": "19af4c62",
   "metadata": {},
   "source": [
    "# Removing the stop words"
   ]
  },
  {
   "cell_type": "code",
   "execution_count": 12,
   "id": "7a25aae7",
   "metadata": {},
   "outputs": [
    {
     "name": "stdout",
     "output_type": "stream",
     "text": [
      "Done! tweet\n",
      "Done! hashtag\n",
      "Done! name\n",
      "Done! url\n",
      "Done! emoji\n"
     ]
    },
    {
     "data": {
      "text/html": [
       "<div>\n",
       "<style scoped>\n",
       "    .dataframe tbody tr th:only-of-type {\n",
       "        vertical-align: middle;\n",
       "    }\n",
       "\n",
       "    .dataframe tbody tr th {\n",
       "        vertical-align: top;\n",
       "    }\n",
       "\n",
       "    .dataframe thead th {\n",
       "        text-align: right;\n",
       "    }\n",
       "</style>\n",
       "<table border=\"1\" class=\"dataframe\">\n",
       "  <thead>\n",
       "    <tr style=\"text-align: right;\">\n",
       "      <th></th>\n",
       "      <th>tweet</th>\n",
       "      <th>target</th>\n",
       "      <th>hashtag</th>\n",
       "      <th>name</th>\n",
       "      <th>url</th>\n",
       "      <th>emoji</th>\n",
       "      <th>hashtag_len</th>\n",
       "      <th>name_len</th>\n",
       "      <th>url_len</th>\n",
       "      <th>emoji_len</th>\n",
       "    </tr>\n",
       "  </thead>\n",
       "  <tbody>\n",
       "    <tr>\n",
       "      <th>0</th>\n",
       "      <td>words food crapilicious</td>\n",
       "      <td>3</td>\n",
       "      <td>katandandre</td>\n",
       "      <td></td>\n",
       "      <td></td>\n",
       "      <td></td>\n",
       "      <td>22</td>\n",
       "      <td>0</td>\n",
       "      <td>0</td>\n",
       "      <td>0</td>\n",
       "    </tr>\n",
       "    <tr>\n",
       "      <th>1</th>\n",
       "      <td>white studio</td>\n",
       "      <td>3</td>\n",
       "      <td>aussietv theblock imacelebrityau today sunrise...</td>\n",
       "      <td></td>\n",
       "      <td></td>\n",
       "      <td></td>\n",
       "      <td>119</td>\n",
       "      <td>0</td>\n",
       "      <td>0</td>\n",
       "      <td>0</td>\n",
       "    </tr>\n",
       "    <tr>\n",
       "      <th>2</th>\n",
       "      <td>classy whore red velvet cupcakes</td>\n",
       "      <td>3</td>\n",
       "      <td></td>\n",
       "      <td>xochitlsuckkks</td>\n",
       "      <td></td>\n",
       "      <td></td>\n",
       "      <td>0</td>\n",
       "      <td>18</td>\n",
       "      <td>0</td>\n",
       "      <td>0</td>\n",
       "    </tr>\n",
       "    <tr>\n",
       "      <th>3</th>\n",
       "      <td>meh p thanks heads concerned another angry dud...</td>\n",
       "      <td>3</td>\n",
       "      <td></td>\n",
       "      <td>jasongio</td>\n",
       "      <td></td>\n",
       "      <td></td>\n",
       "      <td>0</td>\n",
       "      <td>12</td>\n",
       "      <td>0</td>\n",
       "      <td>0</td>\n",
       "    </tr>\n",
       "    <tr>\n",
       "      <th>4</th>\n",
       "      <td>isis account pretending kurdish account like i...</td>\n",
       "      <td>3</td>\n",
       "      <td></td>\n",
       "      <td>rudhoeenglish</td>\n",
       "      <td></td>\n",
       "      <td></td>\n",
       "      <td>0</td>\n",
       "      <td>17</td>\n",
       "      <td>0</td>\n",
       "      <td>0</td>\n",
       "    </tr>\n",
       "  </tbody>\n",
       "</table>\n",
       "</div>"
      ],
      "text/plain": [
       "                                               tweet  target  \\\n",
       "0                            words food crapilicious       3   \n",
       "1                                       white studio       3   \n",
       "2                   classy whore red velvet cupcakes       3   \n",
       "3  meh p thanks heads concerned another angry dud...       3   \n",
       "4  isis account pretending kurdish account like i...       3   \n",
       "\n",
       "                                             hashtag            name url  \\\n",
       "0                                        katandandre                       \n",
       "1  aussietv theblock imacelebrityau today sunrise...                       \n",
       "2                                                     xochitlsuckkks       \n",
       "3                                                           jasongio       \n",
       "4                                                      rudhoeenglish       \n",
       "\n",
       "  emoji  hashtag_len  name_len  url_len  emoji_len  \n",
       "0                 22         0        0          0  \n",
       "1                119         0        0          0  \n",
       "2                  0        18        0          0  \n",
       "3                  0        12        0          0  \n",
       "4                  0        17        0          0  "
      ]
     },
     "execution_count": 12,
     "metadata": {},
     "output_type": "execute_result"
    }
   ],
   "source": [
    "\n",
    "stop_words = stopwords.words('english')\n",
    "stop_words.extend(['rt', 'mkr', 'didn', 'bc', 'n', 'm', 'im', 'll', 'y', 've', 'u', 'ur', 'don', 't', 's','etc'])\n",
    "for col in text_col:\n",
    "    data[col] = data[col].apply(lambda x: ' '.join([word for word in x.split() if word not in (stop_words)]))\n",
    "    print(\"Done! {}\".format(col))\n",
    "data.head()"
   ]
  },
  {
   "cell_type": "markdown",
   "id": "0763dd79",
   "metadata": {},
   "source": [
    "# using the TF-IDF vectorizer"
   ]
  },
  {
   "cell_type": "code",
   "execution_count": 13,
   "id": "f1c31a86",
   "metadata": {},
   "outputs": [],
   "source": [
    "from sklearn.feature_extraction.text import CountVectorizer"
   ]
  },
  {
   "cell_type": "code",
   "execution_count": 20,
   "id": "9262b293",
   "metadata": {},
   "outputs": [],
   "source": [
    "cv_t = TfidfVectorizer(max_features = 500,ngram_range=(1,3))\n",
    "t_array = cv_t.fit_transform(data['tweet']).toarray()"
   ]
  },
  {
   "cell_type": "code",
   "execution_count": 21,
   "id": "4695a239",
   "metadata": {},
   "outputs": [],
   "source": [
    "cv_h = TfidfVectorizer(max_features = 100,ngram_range=(1,1))\n",
    "h_array = cv_h.fit_transform(data['hashtag']).toarray()"
   ]
  },
  {
   "cell_type": "code",
   "execution_count": 22,
   "id": "571b5992",
   "metadata": {},
   "outputs": [],
   "source": [
    "cv_e = TfidfVectorizer(max_features = 100,ngram_range=(1,1))\n",
    "e_array = cv_e.fit_transform(data['emoji']).toarray()"
   ]
  },
  {
   "cell_type": "code",
   "execution_count": 23,
   "id": "6fe7a057",
   "metadata": {},
   "outputs": [],
   "source": [
    "extra = data[['hashtag_len','name_len','url_len','emoji_len']].values\n",
    "extra = np.asarray(extra)"
   ]
  },
  {
   "cell_type": "code",
   "execution_count": 24,
   "id": "de6792ab",
   "metadata": {},
   "outputs": [],
   "source": [
    "X = np.hstack((t_array,h_array,e_array,extra))\n",
    "y = data['target'].values"
   ]
  },
  {
   "cell_type": "code",
   "execution_count": 25,
   "id": "5a2f377c",
   "metadata": {},
   "outputs": [
    {
     "name": "stdout",
     "output_type": "stream",
     "text": [
      "(47692, 704) (47692,)\n"
     ]
    }
   ],
   "source": [
    "print(X.shape,y.shape)"
   ]
  },
  {
   "cell_type": "code",
   "execution_count": 26,
   "id": "6024659d",
   "metadata": {},
   "outputs": [],
   "source": [
    "from sklearn.model_selection import train_test_split\n",
    "X_train, X_test, y_train, y_test = train_test_split(X, y, test_size = 0.20, random_state = 0)"
   ]
  },
  {
   "cell_type": "code",
   "execution_count": 27,
   "id": "2a7bebf3",
   "metadata": {},
   "outputs": [],
   "source": [
    "#importing the model\n",
    "from sklearn.tree import DecisionTreeClassifier\n",
    "from sklearn.metrics import confusion_matrix,f1_score,classification_report"
   ]
  },
  {
   "cell_type": "code",
   "execution_count": 28,
   "id": "73f1a725",
   "metadata": {},
   "outputs": [
    {
     "name": "stdout",
     "output_type": "stream",
     "text": [
      "0.7737708355173498\n",
      "[[1492    6    7   29   20    3]\n",
      " [   5 1569   10   15   20    8]\n",
      " [   1   17 1305  152  128   23]\n",
      " [  29    9  137  759  572   66]\n",
      " [  13   11  114  567  792   22]\n",
      " [   5   11   35   74   49 1464]]\n"
     ]
    }
   ],
   "source": [
    "#Decision tree Classifier\n",
    "clf = DecisionTreeClassifier()\n",
    "clf.fit(X_train,y_train)\n",
    "pred= clf.predict(X_test)\n",
    "acc = f1_score(pred,y_test,average='micro')\n",
    "print(acc)\n",
    "print(confusion_matrix(y_test,pred))"
   ]
  },
  {
   "cell_type": "code",
   "execution_count": 29,
   "id": "fcdba035",
   "metadata": {},
   "outputs": [
    {
     "name": "stdout",
     "output_type": "stream",
     "text": [
      "              precision    recall  f1-score   support\n",
      "\n",
      "           0       0.97      0.96      0.96      1557\n",
      "           1       0.97      0.96      0.97      1627\n",
      "           2       0.81      0.80      0.81      1626\n",
      "           3       0.48      0.48      0.48      1572\n",
      "           4       0.50      0.52      0.51      1519\n",
      "           5       0.92      0.89      0.91      1638\n",
      "\n",
      "    accuracy                           0.77      9539\n",
      "   macro avg       0.77      0.77      0.77      9539\n",
      "weighted avg       0.78      0.77      0.78      9539\n",
      "\n"
     ]
    }
   ],
   "source": [
    "print(classification_report(y_test,pred))"
   ]
  },
  {
   "cell_type": "markdown",
   "id": "15039c0c",
   "metadata": {},
   "source": [
    "# Hyper parametertuning for DT"
   ]
  },
  {
   "cell_type": "code",
   "execution_count": null,
   "id": "b8393790",
   "metadata": {},
   "outputs": [],
   "source": [
    "pgrid = {\"max_depth\": [3,4,5,6,7],\n",
    "      \"min_samples_split\": [5,10,15,20]}\n",
    "clf = DecisionTreeClassifier()\n",
    "grid_search = GridSearchCV(clf, param_grid=pgrid, scoring='f1_micro', cv=3,verbose=3)\n",
    "grid_search.fit(X, y)\n",
    "print(grid_search.best_params_)\n",
    "print(grid_search.best_estimator_.score(X_test, y_test))"
   ]
  },
  {
   "cell_type": "markdown",
   "id": "2b948d2e",
   "metadata": {},
   "source": [
    "# Random Forest Classifier"
   ]
  },
  {
   "cell_type": "code",
   "execution_count": 30,
   "id": "8e8e547a",
   "metadata": {},
   "outputs": [
    {
     "data": {
      "text/plain": [
       "0.8041723451095503"
      ]
     },
     "execution_count": 30,
     "metadata": {},
     "output_type": "execute_result"
    }
   ],
   "source": [
    "clf = RandomForestClassifier(n_estimators=100,random_state=1,n_jobs=-1)\n",
    "clf.fit(X_train,y_train)\n",
    "pred_rf = clf.predict(X_test)\n",
    "f1_score(y_test,pred_rf,average='micro')"
   ]
  },
  {
   "cell_type": "code",
   "execution_count": 26,
   "id": "db01b1cd",
   "metadata": {},
   "outputs": [
    {
     "name": "stderr",
     "output_type": "stream",
     "text": [
      "[Parallel(n_jobs=1)]: Using backend SequentialBackend with 1 concurrent workers.\n"
     ]
    },
    {
     "name": "stdout",
     "output_type": "stream",
     "text": [
      "[CV] END ................................ score: (test=0.811) total time=  45.5s\n"
     ]
    },
    {
     "name": "stderr",
     "output_type": "stream",
     "text": [
      "[Parallel(n_jobs=1)]: Done   1 out of   1 | elapsed:   45.7s remaining:    0.0s\n"
     ]
    },
    {
     "name": "stdout",
     "output_type": "stream",
     "text": [
      "[CV] END ................................ score: (test=0.807) total time=  50.3s\n"
     ]
    },
    {
     "name": "stderr",
     "output_type": "stream",
     "text": [
      "[Parallel(n_jobs=1)]: Done   2 out of   2 | elapsed:  1.6min remaining:    0.0s\n"
     ]
    },
    {
     "name": "stdout",
     "output_type": "stream",
     "text": [
      "[CV] END ................................ score: (test=0.805) total time=  50.3s\n",
      "[CV] END ................................ score: (test=0.811) total time=  49.5s\n",
      "[CV] END ................................ score: (test=0.806) total time=  49.7s\n",
      "0.81 accuracy with a standard deviation of 0.00\n"
     ]
    },
    {
     "name": "stderr",
     "output_type": "stream",
     "text": [
      "[Parallel(n_jobs=1)]: Done   5 out of   5 | elapsed:  4.1min finished\n"
     ]
    }
   ],
   "source": [
    "# fold cross validation in order to avoid overfitting anf fet a good relection of model score\n",
    "from sklearn.model_selection import cross_val_score\n",
    "clf = RandomForestClassifier(n_estimators=100,random_state=1,n_jobs=-1)\n",
    "scoring='f1_micro'\n",
    "scores = cross_val_score(clf, X, y, scoring=scoring, cv=5,verbose=3)\n",
    "print(\"%0.2f accuracy with a standard deviation of %0.2f\" % (scores.mean(), scores.std()))"
   ]
  },
  {
   "cell_type": "markdown",
   "id": "3de3b1f0",
   "metadata": {},
   "source": [
    "# Hyper paramter tuning for Random Forest"
   ]
  },
  {
   "cell_type": "code",
   "execution_count": null,
   "id": "6eeda090",
   "metadata": {},
   "outputs": [
    {
     "name": "stdout",
     "output_type": "stream",
     "text": [
      "Fitting 3 folds for each of 9 candidates, totalling 27 fits\n",
      "[CV 1/3] END max_features=0.2, n_estimators=100;, score=0.804 total time= 5.8min\n",
      "[CV 2/3] END max_features=0.2, n_estimators=100;, score=0.801 total time= 7.0min\n",
      "[CV 3/3] END max_features=0.2, n_estimators=100;, score=0.803 total time= 8.5min\n",
      "[CV 1/3] END max_features=0.2, n_estimators=150;, score=0.804 total time=14.9min\n",
      "[CV 2/3] END max_features=0.2, n_estimators=150;, score=0.801 total time=21.1min\n",
      "[CV 3/3] END max_features=0.2, n_estimators=150;, score=0.803 total time=30.6min\n",
      "[CV 1/3] END max_features=0.2, n_estimators=200;, score=0.804 total time=11.2min\n",
      "[CV 2/3] END max_features=0.2, n_estimators=200;, score=0.801 total time=11.0min\n",
      "[CV 3/3] END max_features=0.2, n_estimators=200;, score=0.803 total time=11.2min\n",
      "[CV 1/3] END max_features=0.4, n_estimators=100;, score=0.799 total time=11.0min\n",
      "[CV 2/3] END max_features=0.4, n_estimators=100;, score=0.797 total time=10.4min\n",
      "[CV 3/3] END max_features=0.4, n_estimators=100;, score=0.798 total time=12.7min\n",
      "[CV 1/3] END max_features=0.4, n_estimators=150;, score=0.800 total time=18.9min\n",
      "[CV 2/3] END max_features=0.4, n_estimators=150;, score=0.796 total time=756.8min\n"
     ]
    }
   ],
   "source": [
    "#max_features=0.2\n",
    "pgrid = {\"max_features\": [0.2, 0.4, 0.8],\n",
    "        \"n_estimators\":[100,150,200]}\n",
    "clf =RandomForestClassifier()\n",
    "grid_search = GridSearchCV(clf, param_grid=pgrid, scoring='f1_micro', cv=3,verbose=3)\n",
    "grid_search.fit(X, y)\n",
    "print(grid_search.best_params_)\n",
    "print(grid_search.best_estimator_.score(X_test, y_test))"
   ]
  },
  {
   "cell_type": "code",
   "execution_count": 228,
   "id": "aac72a99",
   "metadata": {},
   "outputs": [],
   "source": [
    "# matrix = confusion_matrix(y_test1, predictions)\n",
    "# matrix = matrix.astype('float') / matrix.sum(axis=1)[:, np.newaxis]\n",
    "\n",
    "# # Build the plot\n",
    "# plt.figure(figsize=(16,7))\n",
    "# sns.set(font_scale=1.4)\n",
    "# sns.heatmap(matrix, annot=True, annot_kws={'size':10},\n",
    "#             cmap=plt.cm.Greens, linewidths=0.2)\n",
    "\n",
    "# # Add labels to the plot\n",
    "# class_names = ['Updates','Personal', 'Promotions','Forums','Purchases','Travel','Spam','Social']\n",
    "# tick_marks = np.arange(len(class_names))\n",
    "# tick_marks2 = tick_marks + 0.5\n",
    "# plt.xticks(tick_marks, class_names, rotation=25)\n",
    "# plt.yticks(tick_marks2, class_names, rotation=0)\n",
    "# plt.xlabel('Predicted label')\n",
    "# plt.ylabel('True label')\n",
    "# plt.title('Confusion Matrix for XG BOOST Model')\n",
    "# plt.show()"
   ]
  },
  {
   "cell_type": "code",
   "execution_count": 31,
   "id": "e1f59316",
   "metadata": {},
   "outputs": [
    {
     "data": {
      "text/plain": [
       "0.8025998532340917"
      ]
     },
     "execution_count": 31,
     "metadata": {},
     "output_type": "execute_result"
    }
   ],
   "source": [
    "from sklearn.ensemble import ExtraTreesClassifier\n",
    "clf = ExtraTreesClassifier(n_estimators=100)\n",
    "clf.fit(X_train, y_train)\n",
    "pred = clf.predict(X_test)\n",
    "f1_score(pred,y_test,average='micro')"
   ]
  },
  {
   "cell_type": "markdown",
   "id": "b0f89bfe",
   "metadata": {},
   "source": [
    "# balanced Random Forest classifer in order to handle data imbalance"
   ]
  },
  {
   "cell_type": "code",
   "execution_count": 230,
   "id": "50a18ef3",
   "metadata": {},
   "outputs": [
    {
     "name": "stderr",
     "output_type": "stream",
     "text": [
      "[Parallel(n_jobs=-1)]: Using backend LokyBackend with 8 concurrent workers.\n",
      "[Parallel(n_jobs=-1)]: Done  26 out of  30 | elapsed: 24.9min remaining:  3.8min\n",
      "[Parallel(n_jobs=-1)]: Done  30 out of  30 | elapsed: 25.0min finished\n"
     ]
    },
    {
     "name": "stdout",
     "output_type": "stream",
     "text": [
      "0.81 accuracy with a standard deviation of 0.01\n"
     ]
    }
   ],
   "source": [
    "model_rb1 = BalancedRandomForestClassifier(n_estimators=100) # performs random under sampling of majority class in each sample\n",
    "cv = RepeatedStratifiedKFold(n_splits=10, n_repeats=3, random_state=1)\n",
    "scores = cross_val_score(model_rb1, X, y, scoring='f1_micro', cv=cv, n_jobs=-1,verbose=3)\n",
    "print(\"%0.2f accuracy with a standard deviation of %0.2f\" % (scores.mean(), scores.std()))"
   ]
  },
  {
   "cell_type": "markdown",
   "id": "85c2fee0",
   "metadata": {},
   "source": [
    "# Boosting"
   ]
  },
  {
   "cell_type": "code",
   "execution_count": null,
   "id": "d3aeeaba",
   "metadata": {},
   "outputs": [],
   "source": [
    "# XG BOOST MODEL"
   ]
  },
  {
   "cell_type": "code",
   "execution_count": 37,
   "id": "7272f53c",
   "metadata": {},
   "outputs": [
    {
     "name": "stderr",
     "output_type": "stream",
     "text": [
      "C:\\Users\\rkroc\\Anaconda3\\lib\\site-packages\\xgboost\\sklearn.py:1224: UserWarning: The use of label encoder in XGBClassifier is deprecated and will be removed in a future release. To remove this warning, do the following: 1) Pass option use_label_encoder=False when constructing XGBClassifier object; and 2) Encode your labels (y) as integers starting with 0, i.e. 0, 1, 2, ..., [num_class - 1].\n",
      "  warnings.warn(label_encoder_deprecation_msg, UserWarning)\n"
     ]
    },
    {
     "name": "stdout",
     "output_type": "stream",
     "text": [
      "[0]\tvalidation_0-merror:0.22140\tvalidation_0-mlogloss:1.30121\tvalidation_1-merror:0.22308\tvalidation_1-mlogloss:1.30147\n",
      "[1]\tvalidation_0-merror:0.20835\tvalidation_0-mlogloss:1.07662\tvalidation_1-merror:0.20998\tvalidation_1-mlogloss:1.07619\n",
      "[2]\tvalidation_0-merror:0.20533\tvalidation_0-mlogloss:0.93123\tvalidation_1-merror:0.20621\tvalidation_1-mlogloss:0.93203\n",
      "[3]\tvalidation_0-merror:0.20308\tvalidation_0-mlogloss:0.83056\tvalidation_1-merror:0.20358\tvalidation_1-mlogloss:0.83232\n",
      "[4]\tvalidation_0-merror:0.19865\tvalidation_0-mlogloss:0.75424\tvalidation_1-merror:0.20023\tvalidation_1-mlogloss:0.75674\n",
      "[5]\tvalidation_0-merror:0.19713\tvalidation_0-mlogloss:0.69584\tvalidation_1-merror:0.19981\tvalidation_1-mlogloss:0.69876\n",
      "[6]\tvalidation_0-merror:0.19600\tvalidation_0-mlogloss:0.64921\tvalidation_1-merror:0.19876\tvalidation_1-mlogloss:0.65306\n",
      "[7]\tvalidation_0-merror:0.19532\tvalidation_0-mlogloss:0.61311\tvalidation_1-merror:0.19729\tvalidation_1-mlogloss:0.61797\n",
      "[8]\tvalidation_0-merror:0.19280\tvalidation_0-mlogloss:0.58335\tvalidation_1-merror:0.19520\tvalidation_1-mlogloss:0.58917\n",
      "[9]\tvalidation_0-merror:0.18984\tvalidation_0-mlogloss:0.55978\tvalidation_1-merror:0.19342\tvalidation_1-mlogloss:0.56631\n",
      "[10]\tvalidation_0-merror:0.18787\tvalidation_0-mlogloss:0.53991\tvalidation_1-merror:0.19184\tvalidation_1-mlogloss:0.54699\n",
      "[11]\tvalidation_0-merror:0.18520\tvalidation_0-mlogloss:0.52118\tvalidation_1-merror:0.18880\tvalidation_1-mlogloss:0.52866\n",
      "[12]\tvalidation_0-merror:0.18232\tvalidation_0-mlogloss:0.50620\tvalidation_1-merror:0.18608\tvalidation_1-mlogloss:0.51449\n",
      "[13]\tvalidation_0-merror:0.18020\tvalidation_0-mlogloss:0.49403\tvalidation_1-merror:0.18388\tvalidation_1-mlogloss:0.50263\n",
      "[14]\tvalidation_0-merror:0.17860\tvalidation_0-mlogloss:0.48222\tvalidation_1-merror:0.18377\tvalidation_1-mlogloss:0.49121\n",
      "[15]\tvalidation_0-merror:0.17634\tvalidation_0-mlogloss:0.47219\tvalidation_1-merror:0.18210\tvalidation_1-mlogloss:0.48185\n",
      "[16]\tvalidation_0-merror:0.17435\tvalidation_0-mlogloss:0.46382\tvalidation_1-merror:0.17968\tvalidation_1-mlogloss:0.47403\n",
      "[17]\tvalidation_0-merror:0.17346\tvalidation_0-mlogloss:0.45688\tvalidation_1-merror:0.17895\tvalidation_1-mlogloss:0.46723\n",
      "[18]\tvalidation_0-merror:0.17217\tvalidation_0-mlogloss:0.45060\tvalidation_1-merror:0.17780\tvalidation_1-mlogloss:0.46136\n",
      "[19]\tvalidation_0-merror:0.17142\tvalidation_0-mlogloss:0.44480\tvalidation_1-merror:0.17738\tvalidation_1-mlogloss:0.45671\n",
      "[20]\tvalidation_0-merror:0.17047\tvalidation_0-mlogloss:0.43958\tvalidation_1-merror:0.17486\tvalidation_1-mlogloss:0.45194\n",
      "[21]\tvalidation_0-merror:0.16934\tvalidation_0-mlogloss:0.43470\tvalidation_1-merror:0.17434\tvalidation_1-mlogloss:0.44764\n",
      "[22]\tvalidation_0-merror:0.16814\tvalidation_0-mlogloss:0.43039\tvalidation_1-merror:0.17528\tvalidation_1-mlogloss:0.44378\n",
      "[23]\tvalidation_0-merror:0.16709\tvalidation_0-mlogloss:0.42659\tvalidation_1-merror:0.17444\tvalidation_1-mlogloss:0.44047\n",
      "[24]\tvalidation_0-merror:0.16628\tvalidation_0-mlogloss:0.42260\tvalidation_1-merror:0.17360\tvalidation_1-mlogloss:0.43744\n",
      "[25]\tvalidation_0-merror:0.16512\tvalidation_0-mlogloss:0.41926\tvalidation_1-merror:0.17371\tvalidation_1-mlogloss:0.43488\n",
      "[26]\tvalidation_0-merror:0.16439\tvalidation_0-mlogloss:0.41625\tvalidation_1-merror:0.17402\tvalidation_1-mlogloss:0.43283\n",
      "[27]\tvalidation_0-merror:0.16350\tvalidation_0-mlogloss:0.41322\tvalidation_1-merror:0.17339\tvalidation_1-mlogloss:0.43046\n",
      "[28]\tvalidation_0-merror:0.16287\tvalidation_0-mlogloss:0.41071\tvalidation_1-merror:0.17276\tvalidation_1-mlogloss:0.42818\n",
      "[29]\tvalidation_0-merror:0.16261\tvalidation_0-mlogloss:0.40799\tvalidation_1-merror:0.17308\tvalidation_1-mlogloss:0.42636\n",
      "[30]\tvalidation_0-merror:0.16193\tvalidation_0-mlogloss:0.40538\tvalidation_1-merror:0.17193\tvalidation_1-mlogloss:0.42443\n",
      "[31]\tvalidation_0-merror:0.16138\tvalidation_0-mlogloss:0.40292\tvalidation_1-merror:0.17193\tvalidation_1-mlogloss:0.42297\n",
      "[32]\tvalidation_0-merror:0.16088\tvalidation_0-mlogloss:0.40047\tvalidation_1-merror:0.17214\tvalidation_1-mlogloss:0.42148\n",
      "[33]\tvalidation_0-merror:0.16004\tvalidation_0-mlogloss:0.39842\tvalidation_1-merror:0.17245\tvalidation_1-mlogloss:0.42033\n",
      "[34]\tvalidation_0-merror:0.15952\tvalidation_0-mlogloss:0.39642\tvalidation_1-merror:0.17172\tvalidation_1-mlogloss:0.41876\n",
      "[35]\tvalidation_0-merror:0.15904\tvalidation_0-mlogloss:0.39454\tvalidation_1-merror:0.17035\tvalidation_1-mlogloss:0.41746\n",
      "[36]\tvalidation_0-merror:0.15831\tvalidation_0-mlogloss:0.39277\tvalidation_1-merror:0.17088\tvalidation_1-mlogloss:0.41629\n",
      "[37]\tvalidation_0-merror:0.15747\tvalidation_0-mlogloss:0.39121\tvalidation_1-merror:0.17056\tvalidation_1-mlogloss:0.41539\n",
      "[38]\tvalidation_0-merror:0.15697\tvalidation_0-mlogloss:0.38959\tvalidation_1-merror:0.17067\tvalidation_1-mlogloss:0.41419\n",
      "[39]\tvalidation_0-merror:0.15692\tvalidation_0-mlogloss:0.38801\tvalidation_1-merror:0.17077\tvalidation_1-mlogloss:0.41315\n",
      "[40]\tvalidation_0-merror:0.15634\tvalidation_0-mlogloss:0.38644\tvalidation_1-merror:0.17077\tvalidation_1-mlogloss:0.41209\n",
      "[41]\tvalidation_0-merror:0.15582\tvalidation_0-mlogloss:0.38478\tvalidation_1-merror:0.17035\tvalidation_1-mlogloss:0.41117\n",
      "[42]\tvalidation_0-merror:0.15496\tvalidation_0-mlogloss:0.38260\tvalidation_1-merror:0.16962\tvalidation_1-mlogloss:0.40992\n",
      "[43]\tvalidation_0-merror:0.15464\tvalidation_0-mlogloss:0.38099\tvalidation_1-merror:0.16962\tvalidation_1-mlogloss:0.40896\n",
      "[44]\tvalidation_0-merror:0.15393\tvalidation_0-mlogloss:0.37979\tvalidation_1-merror:0.16951\tvalidation_1-mlogloss:0.40788\n",
      "[45]\tvalidation_0-merror:0.15343\tvalidation_0-mlogloss:0.37814\tvalidation_1-merror:0.16878\tvalidation_1-mlogloss:0.40642\n",
      "[46]\tvalidation_0-merror:0.15278\tvalidation_0-mlogloss:0.37692\tvalidation_1-merror:0.16794\tvalidation_1-mlogloss:0.40572\n",
      "[47]\tvalidation_0-merror:0.15233\tvalidation_0-mlogloss:0.37567\tvalidation_1-merror:0.16773\tvalidation_1-mlogloss:0.40505\n",
      "[48]\tvalidation_0-merror:0.15186\tvalidation_0-mlogloss:0.37460\tvalidation_1-merror:0.16731\tvalidation_1-mlogloss:0.40421\n",
      "[49]\tvalidation_0-merror:0.15136\tvalidation_0-mlogloss:0.37344\tvalidation_1-merror:0.16700\tvalidation_1-mlogloss:0.40370\n",
      "[50]\tvalidation_0-merror:0.15126\tvalidation_0-mlogloss:0.37225\tvalidation_1-merror:0.16742\tvalidation_1-mlogloss:0.40308\n",
      "[51]\tvalidation_0-merror:0.15094\tvalidation_0-mlogloss:0.37106\tvalidation_1-merror:0.16689\tvalidation_1-mlogloss:0.40262\n",
      "[52]\tvalidation_0-merror:0.15053\tvalidation_0-mlogloss:0.36988\tvalidation_1-merror:0.16700\tvalidation_1-mlogloss:0.40194\n",
      "[53]\tvalidation_0-merror:0.15037\tvalidation_0-mlogloss:0.36857\tvalidation_1-merror:0.16689\tvalidation_1-mlogloss:0.40118\n",
      "[54]\tvalidation_0-merror:0.14990\tvalidation_0-mlogloss:0.36761\tvalidation_1-merror:0.16679\tvalidation_1-mlogloss:0.40070\n",
      "[55]\tvalidation_0-merror:0.14932\tvalidation_0-mlogloss:0.36666\tvalidation_1-merror:0.16647\tvalidation_1-mlogloss:0.40006\n",
      "[56]\tvalidation_0-merror:0.14932\tvalidation_0-mlogloss:0.36577\tvalidation_1-merror:0.16626\tvalidation_1-mlogloss:0.39971\n",
      "[57]\tvalidation_0-merror:0.14929\tvalidation_0-mlogloss:0.36485\tvalidation_1-merror:0.16626\tvalidation_1-mlogloss:0.39907\n",
      "[58]\tvalidation_0-merror:0.14921\tvalidation_0-mlogloss:0.36390\tvalidation_1-merror:0.16606\tvalidation_1-mlogloss:0.39852\n",
      "[59]\tvalidation_0-merror:0.14885\tvalidation_0-mlogloss:0.36305\tvalidation_1-merror:0.16522\tvalidation_1-mlogloss:0.39812\n",
      "[60]\tvalidation_0-merror:0.14840\tvalidation_0-mlogloss:0.36213\tvalidation_1-merror:0.16574\tvalidation_1-mlogloss:0.39765\n",
      "[61]\tvalidation_0-merror:0.14790\tvalidation_0-mlogloss:0.36079\tvalidation_1-merror:0.16480\tvalidation_1-mlogloss:0.39683\n",
      "[62]\tvalidation_0-merror:0.14751\tvalidation_0-mlogloss:0.35990\tvalidation_1-merror:0.16469\tvalidation_1-mlogloss:0.39661\n",
      "[63]\tvalidation_0-merror:0.14725\tvalidation_0-mlogloss:0.35906\tvalidation_1-merror:0.16438\tvalidation_1-mlogloss:0.39620\n",
      "[64]\tvalidation_0-merror:0.14704\tvalidation_0-mlogloss:0.35812\tvalidation_1-merror:0.16417\tvalidation_1-mlogloss:0.39573\n",
      "[65]\tvalidation_0-merror:0.14683\tvalidation_0-mlogloss:0.35733\tvalidation_1-merror:0.16417\tvalidation_1-mlogloss:0.39528\n",
      "[66]\tvalidation_0-merror:0.14638\tvalidation_0-mlogloss:0.35655\tvalidation_1-merror:0.16459\tvalidation_1-mlogloss:0.39488\n",
      "[67]\tvalidation_0-merror:0.14594\tvalidation_0-mlogloss:0.35587\tvalidation_1-merror:0.16459\tvalidation_1-mlogloss:0.39428\n"
     ]
    },
    {
     "name": "stdout",
     "output_type": "stream",
     "text": [
      "[68]\tvalidation_0-merror:0.14552\tvalidation_0-mlogloss:0.35504\tvalidation_1-merror:0.16417\tvalidation_1-mlogloss:0.39395\n",
      "[69]\tvalidation_0-merror:0.14500\tvalidation_0-mlogloss:0.35429\tvalidation_1-merror:0.16396\tvalidation_1-mlogloss:0.39374\n",
      "[70]\tvalidation_0-merror:0.14473\tvalidation_0-mlogloss:0.35352\tvalidation_1-merror:0.16343\tvalidation_1-mlogloss:0.39337\n",
      "[71]\tvalidation_0-merror:0.14413\tvalidation_0-mlogloss:0.35280\tvalidation_1-merror:0.16343\tvalidation_1-mlogloss:0.39305\n",
      "[72]\tvalidation_0-merror:0.14361\tvalidation_0-mlogloss:0.35201\tvalidation_1-merror:0.16301\tvalidation_1-mlogloss:0.39271\n",
      "[73]\tvalidation_0-merror:0.14334\tvalidation_0-mlogloss:0.35130\tvalidation_1-merror:0.16312\tvalidation_1-mlogloss:0.39252\n",
      "[74]\tvalidation_0-merror:0.14298\tvalidation_0-mlogloss:0.35057\tvalidation_1-merror:0.16323\tvalidation_1-mlogloss:0.39235\n",
      "[75]\tvalidation_0-merror:0.14274\tvalidation_0-mlogloss:0.35000\tvalidation_1-merror:0.16323\tvalidation_1-mlogloss:0.39200\n",
      "[76]\tvalidation_0-merror:0.14219\tvalidation_0-mlogloss:0.34922\tvalidation_1-merror:0.16270\tvalidation_1-mlogloss:0.39165\n",
      "[77]\tvalidation_0-merror:0.14188\tvalidation_0-mlogloss:0.34845\tvalidation_1-merror:0.16270\tvalidation_1-mlogloss:0.39139\n",
      "[78]\tvalidation_0-merror:0.14175\tvalidation_0-mlogloss:0.34773\tvalidation_1-merror:0.16301\tvalidation_1-mlogloss:0.39105\n",
      "[79]\tvalidation_0-merror:0.14130\tvalidation_0-mlogloss:0.34703\tvalidation_1-merror:0.16291\tvalidation_1-mlogloss:0.39078\n",
      "[80]\tvalidation_0-merror:0.14112\tvalidation_0-mlogloss:0.34642\tvalidation_1-merror:0.16312\tvalidation_1-mlogloss:0.39050\n",
      "[81]\tvalidation_0-merror:0.14098\tvalidation_0-mlogloss:0.34574\tvalidation_1-merror:0.16281\tvalidation_1-mlogloss:0.39021\n",
      "[82]\tvalidation_0-merror:0.14083\tvalidation_0-mlogloss:0.34511\tvalidation_1-merror:0.16260\tvalidation_1-mlogloss:0.38988\n",
      "[83]\tvalidation_0-merror:0.14041\tvalidation_0-mlogloss:0.34448\tvalidation_1-merror:0.16228\tvalidation_1-mlogloss:0.38960\n",
      "[84]\tvalidation_0-merror:0.14030\tvalidation_0-mlogloss:0.34393\tvalidation_1-merror:0.16218\tvalidation_1-mlogloss:0.38933\n",
      "[85]\tvalidation_0-merror:0.14012\tvalidation_0-mlogloss:0.34339\tvalidation_1-merror:0.16228\tvalidation_1-mlogloss:0.38930\n",
      "[86]\tvalidation_0-merror:0.13986\tvalidation_0-mlogloss:0.34270\tvalidation_1-merror:0.16228\tvalidation_1-mlogloss:0.38900\n",
      "[87]\tvalidation_0-merror:0.13960\tvalidation_0-mlogloss:0.34203\tvalidation_1-merror:0.16197\tvalidation_1-mlogloss:0.38886\n",
      "[88]\tvalidation_0-merror:0.13944\tvalidation_0-mlogloss:0.34148\tvalidation_1-merror:0.16228\tvalidation_1-mlogloss:0.38877\n",
      "[89]\tvalidation_0-merror:0.13876\tvalidation_0-mlogloss:0.34087\tvalidation_1-merror:0.16228\tvalidation_1-mlogloss:0.38861\n",
      "[90]\tvalidation_0-merror:0.13844\tvalidation_0-mlogloss:0.34024\tvalidation_1-merror:0.16218\tvalidation_1-mlogloss:0.38843\n",
      "[91]\tvalidation_0-merror:0.13847\tvalidation_0-mlogloss:0.33973\tvalidation_1-merror:0.16228\tvalidation_1-mlogloss:0.38809\n",
      "[92]\tvalidation_0-merror:0.13836\tvalidation_0-mlogloss:0.33915\tvalidation_1-merror:0.16218\tvalidation_1-mlogloss:0.38800\n",
      "[93]\tvalidation_0-merror:0.13800\tvalidation_0-mlogloss:0.33856\tvalidation_1-merror:0.16249\tvalidation_1-mlogloss:0.38783\n",
      "[94]\tvalidation_0-merror:0.13771\tvalidation_0-mlogloss:0.33789\tvalidation_1-merror:0.16176\tvalidation_1-mlogloss:0.38768\n",
      "[95]\tvalidation_0-merror:0.13755\tvalidation_0-mlogloss:0.33732\tvalidation_1-merror:0.16186\tvalidation_1-mlogloss:0.38754\n",
      "[96]\tvalidation_0-merror:0.13724\tvalidation_0-mlogloss:0.33670\tvalidation_1-merror:0.16197\tvalidation_1-mlogloss:0.38746\n",
      "[97]\tvalidation_0-merror:0.13708\tvalidation_0-mlogloss:0.33617\tvalidation_1-merror:0.16197\tvalidation_1-mlogloss:0.38728\n",
      "[98]\tvalidation_0-merror:0.13692\tvalidation_0-mlogloss:0.33566\tvalidation_1-merror:0.16165\tvalidation_1-mlogloss:0.38693\n",
      "[99]\tvalidation_0-merror:0.13653\tvalidation_0-mlogloss:0.33520\tvalidation_1-merror:0.16176\tvalidation_1-mlogloss:0.38687\n"
     ]
    },
    {
     "data": {
      "text/plain": [
       "XGBClassifier(base_score=0.5, booster='gbtree', colsample_bylevel=1,\n",
       "              colsample_bynode=1, colsample_bytree=1, enable_categorical=False,\n",
       "              eval_metric='mlogloss', gamma=0, gpu_id=-1, importance_type=None,\n",
       "              interaction_constraints='', learning_rate=0.300000012,\n",
       "              max_delta_step=0, max_depth=6, min_child_weight=1, missing=nan,\n",
       "              monotone_constraints='()', n_estimators=100, n_jobs=8,\n",
       "              num_parallel_tree=1, objective='multi:softprob', predictor='auto',\n",
       "              random_state=0, reg_alpha=0, reg_lambda=1, scale_pos_weight=None,\n",
       "              subsample=1, tree_method='exact', validate_parameters=1,\n",
       "              verbosity=None)"
      ]
     },
     "execution_count": 37,
     "metadata": {},
     "output_type": "execute_result"
    }
   ],
   "source": [
    "model_xgb = XGBClassifier(objective='multi:softmax',eval_metric='mlogloss')\n",
    "eval_set = [(X_train, y_train),(X_test,y_test)]\n",
    "model_xgb.fit(X_train, y_train, eval_metric=[\"merror\",\"mlogloss\"], eval_set=eval_set, verbose=True)"
   ]
  },
  {
   "cell_type": "code",
   "execution_count": 38,
   "id": "556c17fc",
   "metadata": {},
   "outputs": [
    {
     "data": {
      "text/plain": [
       "0.8382430024111542"
      ]
     },
     "execution_count": 38,
     "metadata": {},
     "output_type": "execute_result"
    }
   ],
   "source": [
    "pred_xgb = model_xgb.predict(X_test) #Evaluating on the test data\n",
    "f1_score(y_test,pred_xgb,average='micro')"
   ]
  },
  {
   "cell_type": "code",
   "execution_count": 39,
   "id": "e2d29c3b",
   "metadata": {},
   "outputs": [
    {
     "data": {
      "image/png": "[encoded data removed]",
      "text/plain": [
       "<Figure size 432x288 with 1 Axes>"
      ]
     },
     "metadata": {
      "needs_background": "light"
     },
     "output_type": "display_data"
    },
    {
     "data": {
      "image/png": "[encoded data removed]",
      "text/plain": [
       "<Figure size 432x288 with 1 Axes>"
      ]
     },
     "metadata": {
      "needs_background": "light"
     },
     "output_type": "display_data"
    }
   ],
   "source": [
    "results = model_xgb.evals_result()\n",
    "epochs = len(results['validation_0']['merror'])\n",
    "x_axis = range(0, epochs)\n",
    "#plot log loss\n",
    "fig, ax = plt.subplots()\n",
    "ax.plot(x_axis, results['validation_0']['mlogloss'], label='Train')\n",
    "ax.plot(x_axis, results['validation_1']['mlogloss'], label='Test')\n",
    "ax.legend()\n",
    "plt.ylabel('Log Loss')\n",
    "plt.title('XGBoost Log Loss')\n",
    "plt.show()\n",
    "#plot classification error\n",
    "fig, ax = plt.subplots()\n",
    "ax.plot(x_axis, results['validation_0']['merror'], label='Train')\n",
    "ax.plot(x_axis, results['validation_1']['merror'], label='Test')\n",
    "ax.legend()\n",
    "plt.ylabel('Classification Error')\n",
    "plt.title('XGBoost Classification Error')\n",
    "plt.show()"
   ]
  },
  {
   "cell_type": "code",
   "execution_count": 40,
   "id": "636c89e6",
   "metadata": {},
   "outputs": [
    {
     "name": "stdout",
     "output_type": "stream",
     "text": [
      "              precision    recall  f1-score   support\n",
      "\n",
      "           0       0.98      0.97      0.98      1557\n",
      "           1       0.99      0.98      0.99      1627\n",
      "           2       0.94      0.82      0.88      1626\n",
      "           3       0.64      0.51      0.57      1572\n",
      "           4       0.57      0.81      0.67      1519\n",
      "           5       0.97      0.93      0.95      1638\n",
      "\n",
      "    accuracy                           0.84      9539\n",
      "   macro avg       0.85      0.84      0.84      9539\n",
      "weighted avg       0.85      0.84      0.84      9539\n",
      "\n"
     ]
    }
   ],
   "source": [
    "print(classification_report(y_test,pred_xgb))"
   ]
  },
  {
   "cell_type": "code",
   "execution_count": 41,
   "id": "ef17073d",
   "metadata": {},
   "outputs": [],
   "source": [
    "#Light Gradient Boosting"
   ]
  },
  {
   "cell_type": "code",
   "execution_count": 32,
   "id": "1ea58f81",
   "metadata": {},
   "outputs": [
    {
     "data": {
      "text/plain": [
       "0.8267113953244576"
      ]
     },
     "execution_count": 32,
     "metadata": {},
     "output_type": "execute_result"
    }
   ],
   "source": [
    "import lightgbm as lgb\n",
    "lgb_class = lgb.LGBMClassifier(n_estimators=100)\n",
    "lgb_class.fit(X_train,y_train)\n",
    "lgb_pred = lgb_class.predict(X_test)\n",
    "f1_score(y_test,lgb_pred,average='micro')"
   ]
  },
  {
   "cell_type": "code",
   "execution_count": null,
   "id": "83069b39",
   "metadata": {},
   "outputs": [],
   "source": [
    "# Hyper paramter tuning for LGB"
   ]
  },
  {
   "cell_type": "code",
   "execution_count": null,
   "id": "08cd48be",
   "metadata": {},
   "outputs": [],
   "source": [
    "pgrid = { \"max_depth\":[2,3,5,7],\n",
    "       \"n_estimators\":[100,150,200]}\n",
    "        \"learning_rate\":[0.01,0.05,0.1],\n",
    "         \"reg_lambda\":[i/10.0 for i in range(0,11,3)] }\n",
    "clf =lgb.LGBMClassifier(objective='multiclass',metric='multi_logloss')\n",
    "grid_search = GridSearchCV(clf, param_grid=pgrid, scoring='f1_micro', cv=10,verbose=3)\n",
    "grid_search.fit(X, y)\n",
    "print(grid_search.best_params_)\n",
    "print(grid_search.best_estimator_.score(X_test, y_test))"
   ]
  },
  {
   "cell_type": "code",
   "execution_count": null,
   "id": "6fbb7bb5",
   "metadata": {},
   "outputs": [],
   "source": []
  }
 ],
 "metadata": {
  "kernelspec": {
   "display_name": "Python 3",
   "language": "python",
   "name": "python3"
  },
  "language_info": {
   "codemirror_mode": {
    "name": "ipython",
    "version": 3
   },
   "file_extension": ".py",
   "mimetype": "text/x-python",
   "name": "python",
   "nbconvert_exporter": "python",
   "pygments_lexer": "ipython3",
   "version": "3.8.8"
  }
 },
 "nbformat": 4,
 "nbformat_minor": 5
}
