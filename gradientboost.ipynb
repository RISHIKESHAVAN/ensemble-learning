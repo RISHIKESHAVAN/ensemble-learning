{
 "cells": [
  {
   "cell_type": "code",
   "execution_count": 11,
   "id": "ef528bbe",
   "metadata": {},
   "outputs": [],
   "source": [
    "import pandas as pd\n",
    "import numpy as np"
   ]
  },
  {
   "cell_type": "code",
   "execution_count": 12,
   "id": "4e06c8d6",
   "metadata": {},
   "outputs": [],
   "source": [
    "data = pd.read_csv(r\"/Users/basmaweh/Desktop/df_for_models.csv\")"
   ]
  },
  {
   "cell_type": "code",
   "execution_count": 13,
   "id": "50d8f033",
   "metadata": {},
   "outputs": [],
   "source": [
    "from sklearn.ensemble import GradientBoostingClassifier"
   ]
  },
  {
   "cell_type": "code",
   "execution_count": 14,
   "id": "089553f4",
   "metadata": {},
   "outputs": [],
   "source": [
    "from sklearn.model_selection import RandomizedSearchCV"
   ]
  },
  {
   "cell_type": "code",
   "execution_count": 15,
   "id": "f3dd2107",
   "metadata": {},
   "outputs": [],
   "source": [
    "X = data.drop(\"cyberbullying_type\", axis=1)\n",
    "y = data[\"cyberbullying_type\"]"
   ]
  },
  {
   "cell_type": "code",
   "execution_count": 18,
   "id": "5f6cdc0d",
   "metadata": {},
   "outputs": [],
   "source": [
    "\n",
    "grid_params = {'n_estimators': [int(x) for x in np.linspace(50, 250, num = 20)],\n",
    "               'learning_rate': [0.05, 0.10, 0.15, 0.20, 0.25, 0.30 ],\n",
    "               'max_leaf_nodes': [int(x) for x in np.linspace(2, 25, num = 10)],\n",
    "               'max_depth': [int(x) for x in np.linspace(3, 50, num = 10)]}"
   ]
  },
  {
   "cell_type": "code",
   "execution_count": 21,
   "id": "438b2a42",
   "metadata": {},
   "outputs": [],
   "source": [
    "gb = GradientBoostingClassifier()"
   ]
  },
  {
   "cell_type": "code",
   "execution_count": 22,
   "id": "299aeb3b",
   "metadata": {},
   "outputs": [],
   "source": [
    "X = data.drop(\"cyberbullying_type\", axis=1)\n",
    "y = data[\"cyberbullying_type\"]"
   ]
  },
  {
   "cell_type": "code",
   "execution_count": 23,
   "id": "50fbee26",
   "metadata": {},
   "outputs": [],
   "source": [
    "gb_cv = RandomizedSearchCV(estimator = gb, \n",
    "                           param_distributions = grid_params,\n",
    "                           n_iter = 30, \n",
    "                           cv =3, \n",
    "                           verbose=2, \n",
    "                           random_state=42, \n",
    "                           scoring = 'f1_weighted', \n",
    "                           n_jobs=-1)"
   ]
  },
  {
   "cell_type": "code",
   "execution_count": 24,
   "id": "35f3ebac",
   "metadata": {},
   "outputs": [
    {
     "name": "stdout",
     "output_type": "stream",
     "text": [
      "Fitting 3 folds for each of 30 candidates, totalling 90 fits\n"
     ]
    },
    {
     "data": {
      "text/plain": [
       "RandomizedSearchCV(cv=3, estimator=GradientBoostingClassifier(), n_iter=30,\n",
       "                   n_jobs=-1,\n",
       "                   param_distributions={'learning_rate': [0.05, 0.1, 0.15, 0.2,\n",
       "                                                          0.25, 0.3],\n",
       "                                        'max_depth': [3, 8, 13, 18, 23, 29, 34,\n",
       "                                                      39, 44, 50],\n",
       "                                        'max_leaf_nodes': [2, 4, 7, 9, 12, 14,\n",
       "                                                           17, 19, 22, 25],\n",
       "                                        'n_estimators': [50, 60, 71, 81, 92,\n",
       "                                                         102, 113, 123, 134,\n",
       "                                                         144, 155, 165, 176,\n",
       "                                                         186, 197, 207, 218,\n",
       "                                                         228, 239, 250]},\n",
       "                   random_state=42, scoring='f1_weighted', verbose=2)"
      ]
     },
     "execution_count": 24,
     "metadata": {},
     "output_type": "execute_result"
    }
   ],
   "source": [
    "gb_cv.fit(X, y)"
   ]
  },
  {
   "cell_type": "code",
   "execution_count": 25,
   "id": "51ddd3b4",
   "metadata": {},
   "outputs": [
    {
     "name": "stdout",
     "output_type": "stream",
     "text": [
      "gb_cv.best_params_ {'n_estimators': 144, 'max_leaf_nodes': 22, 'max_depth': 18, 'learning_rate': 0.05}\n"
     ]
    }
   ],
   "source": [
    "print(\"gb_cv.best_params_\", gb_cv.best_params_)"
   ]
  },
  {
   "cell_type": "code",
   "execution_count": 26,
   "id": "9a69c297",
   "metadata": {},
   "outputs": [
    {
     "name": "stdout",
     "output_type": "stream",
     "text": [
      "gb_cv.best_score_ 0.8268321486763613\n"
     ]
    }
   ],
   "source": [
    "print(\"gb_cv.best_score_\", gb_cv.best_score_)"
   ]
  }
 ],
 "metadata": {
  "kernelspec": {
   "display_name": "Python 3",
   "language": "python",
   "name": "python3"
  },
  "language_info": {
   "codemirror_mode": {
    "name": "ipython",
    "version": 3
   },
   "file_extension": ".py",
   "mimetype": "text/x-python",
   "name": "python",
   "nbconvert_exporter": "python",
   "pygments_lexer": "ipython3",
   "version": "3.8.8"
  }
 },
 "nbformat": 4,
 "nbformat_minor": 5
}
